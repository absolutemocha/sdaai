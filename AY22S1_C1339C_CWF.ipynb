{
 "cells": [
  {
   "cell_type": "markdown",
   "metadata": {},
   "source": [
    "# C1339C Programming for AI\n",
    "\n",
    "## Instructions to students\t\n",
    "1.\tThis coursework assignment is to be completed and submitted individually.\n",
    "2.\tPlagiarism and/or sharing work is an infringement of SOI policy and will lead to penalties. \n",
    "3.\tStudents are safeguard their own work.\n",
    "4.\tRead and complete the declaration form on the cover page - `Academic_Honesty_Plagiarism_SOI.pdf`. The declaration form must be included as part of your submission.\n",
    "5.\tThe maximum score achievable for this coursework assignment is 100 marks\n",
    "\n",
    "\n",
    "## Submission Procedure\n",
    "5.\tYou are to upload the assignment in SA 2.0. Two files are required, zipped together  \n",
    "    - `AY22S1_C1339C_CWF.ipynb` (*This document*)\n",
    "    - `AY22S1_C1339C_CWF.docx` Word document containing your declaration, signature and the date.\n",
    "\n",
    "<p align=\"center\">\n",
    "<img src=\"https://github.com/Nezakka/FileImageShare/blob/main/CET/C1339C/CW1/CET_Assignment_Declaration_2022.jpg?raw=true\"width=500>\n",
    "</p>\n",
    "\n",
    "6.\tCopy your files into an empty folder, the folder must be named with the following file naming convention: \n",
    "<span style=\"color:DarkSalmon\"> \n",
    "    - AY22S1_C1339C_CWF_\\<StudentId\\>_\\<Name\\>\n",
    "    - Sample: AY22S1_C1339C_CWF_22876565_JoeBlogs\n",
    "</span>\n",
    "7.\tCompress your folder in zip file format, including your declaration form. Please use zip format and not 7zip, gzip, rar etc.\n",
    "8.\tSubmit no later than 23:59 12 August 2022 in S.A 2.0. Late submissions of assignment-based coursework component without leave of absence (LOA) for the module will be subjected to the following late penalties: \n",
    "\n",
    "<p align=\"center\">\n",
    "<img src=\"https://github.com/Nezakka/FileImageShare/blob/main/CET/C1339C/CW1/CET_Assignment_Penalties_2022.jpg?raw=true\" width=500\">\n",
    "</p>"
   ]
  },
  {
   "cell_type": "markdown",
   "metadata": {},
   "source": [
    "Design and program Python cells to **decode** a binary encoded message into Morse code and an English text. \n",
    "\n",
    "- Pass an encoded binary message to the `binary_2_Morse` function to convert it to Morse code.\n",
    "- Pass an encoded binary message to the `binary_2_Text` function to convert it to English text.\n",
    "- Your functions are to handle characters between A-Z including lower case a-z.\n",
    "- No numbers, punctuation or special characters need to be considered.\n",
    "- In binary, a 1 represents a Morse dot (.) \n",
    "- In binary, a 11 represents a Morse dash (-) \n",
    "- Each <span style=\"color:red\">symbol</span> (. or -) is terminated by a 0\n",
    "- Each <span style=\"color:green\">letter</span> is terminated by 00\n",
    "- Each <span style=\"color:blue\">word</span> is terminated by 0000\n",
    "\n",
    "For example:\n",
    "\n",
    "Binary:     1<span style=\"color:red\">0</span>10101<span style=\"color:green\">00</span>101<span style=\"color:blue\">0000</span>11001010101001001011010010000 will translate to    \n",
    "Morse:      .... .. - .... . .-. .  or to     \n",
    "English:    HI THERE  \n"
   ]
  },
  {
   "cell_type": "code",
   "execution_count": 4,
   "metadata": {},
   "outputs": [],
   "source": [
    "# You are encouraged to use morse_dict after you have executed this cell\n",
    "\n",
    "morse_dict = {'.-': 'A',    '-...': 'B',\n",
    "              '-.-.': 'C',  '-..': 'D',   '.': 'E',\n",
    "              '..-.': 'F',  '--.': 'G',   '....': 'H',\n",
    "              '..': 'I',    '.---': 'J',  '-.-': 'K',\n",
    "              '.-..': 'L',  '--': 'M',    '-.': 'N',\n",
    "              '---': 'O',   '.--.': 'P',  '--.-': 'Q',\n",
    "              '.-.': 'R',   '...': 'S',   '-': 'T',\n",
    "              '..-': 'U',   '...-': 'V',  '.--': 'W',\n",
    "              '-..-': 'X',  '-.--': 'Y',  '--..': 'Z'}\n"
   ]
  },
  {
   "cell_type": "markdown",
   "metadata": {},
   "source": [
    ">## Question 1\n",
    "#### Marks: 30"
   ]
  },
  {
   "cell_type": "code",
   "execution_count": null,
   "metadata": {},
   "outputs": [],
   "source": [
    "# Implement binary_2_Morse function\n",
    "def binary_2_Morse(signal):\n",
    "    output = \"\"\n",
    "    #\n",
    "    # Your code goes here \n",
    "    #\n",
    "\n",
    "\n",
    "\n",
    "\n",
    "\n",
    "    return output    \n",
    "\n",
    "m_Code = binary_2_Morse('101010100101000011001010101001001011010010000')\n",
    "print(m_Code)\n",
    "# Expected Output is \".... .. - .... . .-. .\"\n",
    "   "
   ]
  },
  {
   "cell_type": "markdown",
   "metadata": {},
   "source": [
    ">## Question 2\n",
    "#### Marks: 40"
   ]
  },
  {
   "cell_type": "code",
   "execution_count": 2,
   "metadata": {},
   "outputs": [
    {
     "name": "stdout",
     "output_type": "stream",
     "text": [
      "\n"
     ]
    }
   ],
   "source": [
    "# Implement text_2_Binary function\n",
    "def binary_2_Text(signal):\n",
    "    output = \"\"\n",
    "    #\n",
    "    # Your code goes here \n",
    "    #\n",
    "\n",
    "\n",
    "\n",
    "\n",
    "\n",
    "    return output\n",
    "\n",
    "e_Text = binary_2_Text('101010100101000011001010101001001011010010000')\n",
    "print(e_Text)\n",
    "# Expected Output is \"HI THERE\""
   ]
  },
  {
   "cell_type": "markdown",
   "metadata": {},
   "source": [
    ">## Question 3\n",
    "#### Marks: 30\n",
    "Test your program with _SIX_ Test Cases.  Your six cases should include the following three samples below. Your code must print\n",
    "1. The encoded message\n",
    "2. The Morse code (Separate each symbol/letter/word by a single space)\n",
    "3. The English text message (Case does not matter)\n",
    "\n",
    "\n",
    "#### Test 1  \n",
    "Encoded Message: `101010100101000011001010101001001011010010000`  \n",
    "Morse Code: `.... .. - .... . .-. .`    \n",
    "Message: `HI THERE`  \n",
    "\n",
    "#### Test 2  \n",
    "Encoded Message:   `101101010010101100110101101001101011011000010100110100001100101010100100001010100110101100110101101100001011011001010011001010101000011010100101001011001101100110110110011010011010100101010000`  \n",
    "Morse Code: `.-.. ..- -.-. -.-- .. -. - .... . ... -.- -.-- .-- .. - .... -.. .. .- -- --- -. -.. ...`  \n",
    "Message: `Lucy in the sky with diamonds`  \n",
    "\n",
    "#### Test 3  \n",
    "Encoded Message:  `1100101010100100001011010100101100101010011000010110110100101101010010110011010010000110110110010101100110000110110110010101101000010101001101011011001101010011010010011010110110000101001010100001011001011010100110110011011011001010100110000110110100110110110011010010000`  \n",
    "Morse Code: '`- .... . .-.. .- ... - .--. .-.. .- -. . --- ..- - --- ..-. ... -.-- -.. -. . -.-- .. ... .- .-.. -- --- ... - --. --- -. .`  \n",
    "Message: `The last plane out of Sydney is almost gone`"
   ]
  },
  {
   "cell_type": "code",
   "execution_count": 5,
   "metadata": {},
   "outputs": [],
   "source": [
    "# Your Testing code goes here\n",
    "#\n",
    "\n",
    "\n"
   ]
  },
  {
   "cell_type": "markdown",
   "metadata": {},
   "source": [
    "<center>End of assessment</center>"
   ]
  }
 ],
 "metadata": {
  "kernelspec": {
   "display_name": "Python 3.10.5 64-bit",
   "language": "python",
   "name": "python3"
  },
  "language_info": {
   "codemirror_mode": {
    "name": "ipython",
    "version": 3
   },
   "file_extension": ".py",
   "mimetype": "text/x-python",
   "name": "python",
   "nbconvert_exporter": "python",
   "pygments_lexer": "ipython3",
   "version": "3.10.5"
  },
  "orig_nbformat": 4,
  "vscode": {
   "interpreter": {
    "hash": "6a841907da3d9c728f32aa3308a4d83fcfdfcfb937c59b805033f2235d1f5a00"
   }
  }
 },
 "nbformat": 4,
 "nbformat_minor": 2
}
