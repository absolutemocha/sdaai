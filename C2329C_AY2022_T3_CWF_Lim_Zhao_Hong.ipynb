{
  "cells": [
    {
      "cell_type": "markdown",
      "metadata": {
        "id": "view-in-github",
        "colab_type": "text"
      },
      "source": [
        "<a href=\"https://colab.research.google.com/github/absolutemocha/sdaai/blob/main/C2329C_AY2022_T3_CWF_Lim_Zhao_Hong.ipynb\" target=\"_parent\"><img src=\"https://colab.research.google.com/assets/colab-badge.svg\" alt=\"Open In Colab\"/></a>"
      ]
    },
    {
      "cell_type": "markdown",
      "id": "81d187d1",
      "metadata": {
        "id": "81d187d1"
      },
      "source": [
        "# C2329C Machine Learning Fundamentals\n",
        "\n",
        "## Coursework Final\n",
        "***\n",
        "### Student Name: $<Lim Zhao Hong>$ \n",
        "### Student ID: $<20065320>$\n",
        "\n",
        "***\n",
        "\n",
        "## Features description from the $CleandDataV20210515.csv$ file:\n",
        "\n",
        "**index_col** time step for the washing cycle\n",
        "\n",
        "**avC:** average current \n",
        "\n",
        "**avP:** average power\n",
        "\n",
        "**avR:** average resistant\n",
        "\n",
        "**maxC:** maximum current \n",
        "\n",
        "**maxP:** maximum power\n",
        "\n",
        "**sdC:** standard deviation for current\n",
        "\n",
        "**sdP:** standard deviation for power\n",
        "\n",
        "**stdCR:** standard deviation for resistant\n",
        "\n",
        "**stdCP:** standard deviation for power\n",
        "\n",
        "**AvRR:** average relative resistance to previous resistance reading\n",
        "\n",
        "**mode:** positive class: Daily Wash | negative class: Not Daily Wash\n"
      ]
    },
    {
      "cell_type": "code",
      "execution_count": null,
      "id": "7a4a8a70",
      "metadata": {
        "id": "7a4a8a70"
      },
      "outputs": [],
      "source": [
        "# Import necessary Python libraries\n",
        "import numpy as np\n",
        "import pandas as pd\n",
        "import seaborn as sns\n",
        "import matplotlib.pyplot as plt"
      ]
    },
    {
      "cell_type": "markdown",
      "id": "a770d865",
      "metadata": {
        "id": "a770d865"
      },
      "source": [
        "## Data Preparation Process"
      ]
    },
    {
      "cell_type": "code",
      "execution_count": null,
      "id": "9b886be8",
      "metadata": {
        "id": "9b886be8"
      },
      "outputs": [],
      "source": [
        "from __future__ import print_function\n",
        "import os\n",
        "data_path = ['data']"
      ]
    },
    {
      "cell_type": "code",
      "execution_count": null,
      "id": "0e87a9dd",
      "metadata": {
        "id": "0e87a9dd"
      },
      "outputs": [],
      "source": [
        "# Import the data using the file path\n",
        "filepath = os.sep.join(data_path + ['CleandDataV20210515.csv'])\n",
        "data = pd.read_csv(filepath)"
      ]
    },
    {
      "cell_type": "code",
      "execution_count": null,
      "id": "a11baea5",
      "metadata": {
        "id": "a11baea5"
      },
      "outputs": [],
      "source": [
        "data.head(1).T"
      ]
    },
    {
      "cell_type": "code",
      "source": [
        "# Remove extraneous columns\n",
        "data.drop(['state', 'area_code', 'phone_number'], axis=1, inplace=True)"
      ],
      "metadata": {
        "id": "AlIrQDDsgp6y"
      },
      "id": "AlIrQDDsgp6y",
      "execution_count": null,
      "outputs": []
    },
    {
      "cell_type": "code",
      "source": [
        "data.columns"
      ],
      "metadata": {
        "id": "gEDGihIRhDop"
      },
      "id": "gEDGihIRhDop",
      "execution_count": null,
      "outputs": []
    },
    {
      "cell_type": "markdown",
      "id": "2051d116",
      "metadata": {
        "id": "2051d116"
      },
      "source": [
        "\n",
        "***"
      ]
    },
    {
      "cell_type": "markdown",
      "id": "c1caf715",
      "metadata": {
        "id": "c1caf715"
      },
      "source": [
        "## K-Nearest Neigbors"
      ]
    },
    {
      "cell_type": "code",
      "execution_count": null,
      "id": "92dd0710",
      "metadata": {
        "id": "92dd0710"
      },
      "outputs": [],
      "source": [
        "#K-nearest neighbors requires scaled data. Scale the data using one of the scaling methods discussed in the lecture."
      ]
    },
    {
      "cell_type": "code",
      "execution_count": null,
      "id": "b0657169",
      "metadata": {
        "id": "b0657169"
      },
      "outputs": [],
      "source": []
    },
    {
      "cell_type": "code",
      "execution_count": null,
      "id": "318c7767",
      "metadata": {
        "id": "318c7767"
      },
      "outputs": [],
      "source": []
    },
    {
      "cell_type": "markdown",
      "id": "ef737a52",
      "metadata": {
        "id": "ef737a52"
      },
      "source": [
        "\n",
        "***"
      ]
    },
    {
      "cell_type": "markdown",
      "id": "c9654ee4",
      "metadata": {
        "id": "c9654ee4"
      },
      "source": [
        "## Logistic Regression "
      ]
    },
    {
      "cell_type": "code",
      "execution_count": null,
      "id": "5fac89f8",
      "metadata": {
        "id": "5fac89f8"
      },
      "outputs": [],
      "source": [
        "# Build and evaluate your LR model here ... "
      ]
    },
    {
      "cell_type": "code",
      "execution_count": null,
      "id": "0949c8ef",
      "metadata": {
        "id": "0949c8ef"
      },
      "outputs": [],
      "source": []
    },
    {
      "cell_type": "code",
      "execution_count": null,
      "id": "0a8a204d",
      "metadata": {
        "id": "0a8a204d"
      },
      "outputs": [],
      "source": []
    },
    {
      "cell_type": "markdown",
      "id": "d563ff97",
      "metadata": {
        "id": "d563ff97"
      },
      "source": [
        "\n",
        "\n",
        "***"
      ]
    }
  ],
  "metadata": {
    "kernelspec": {
      "display_name": "Python 3 (ipykernel)",
      "language": "python",
      "name": "python3"
    },
    "language_info": {
      "codemirror_mode": {
        "name": "ipython",
        "version": 3
      },
      "file_extension": ".py",
      "mimetype": "text/x-python",
      "name": "python",
      "nbconvert_exporter": "python",
      "pygments_lexer": "ipython3",
      "version": "3.9.7"
    },
    "colab": {
      "provenance": [],
      "include_colab_link": true
    }
  },
  "nbformat": 4,
  "nbformat_minor": 5
}