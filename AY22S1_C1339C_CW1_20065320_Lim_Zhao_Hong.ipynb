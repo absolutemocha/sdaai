{
 "cells": [
  {
   "cell_type": "markdown",
   "metadata": {},
   "source": [
    "# C1339C Programming for AI\n",
    "\n",
    "## Instructions to students\t\n",
    "1.\tThis coursework assignment is to be completed and submitted individually.\n",
    "2.\tPlagiarism and/or sharing work is an infringement of SOI policy and will lead to penalties. \n",
    "3.\tStudents are safeguard their own work.\n",
    "4.\tRead and complete the declaration form on the cover page - `Academic_Honesty_Plagiarism_SOI.pdf`. The declaration form must be included as part of your submission.\n",
    "5.\tThe maximum score achievable for this coursework assignment is 100 marks\n",
    "\n",
    "\n",
    "## Submission Procedure\n",
    "5.\tYou are to upload the assignment in SA 2.0. Two files are required, zipped together  \n",
    "    - `AY22S1_C1339C_CW1.ipynb` (*This document*)\n",
    "    - `AY22S1_C1339C_CS1.docx` Word document containing your declaration, signature and the date.\n",
    "\n",
    "<p align=\"center\">\n",
    "<img src=\"https://github.com/Nezakka/FileImageShare/blob/main/CET/C1339C/CW1/CET_Assignment_Declaration_2022.jpg?raw=true\"width=500>\n",
    "</p>\n",
    "\n",
    "6.\tCopy your files into an empty folder, the folder must be named with the following file naming convention: \n",
    "<span style=\"color:DarkSalmon\"> \n",
    "    - AY22S1_C1339C_CW1_\\<StudentId\\>_\\<Name\\>\n",
    "    - Sample: AY22S1_C1339C_CW1_22876565_JoeBlogs\n",
    "</span>\n",
    "7.\tCompress your folder in zip file format, including your declaration form. Please use zip format and not 7zip, gzip, rar etc.\n",
    "8.\tSubmit no later than 23:59 17 July 2022 in S.A 2.0. Late submissions of assignment-based coursework component without leave of absence (LOA) for the module will be subjected to the following late penalties: \n",
    "\n",
    "<p align=\"center\">\n",
    "<img src=\"https://github.com/Nezakka/FileImageShare/blob/main/CET/C1339C/CW1/CET_Assignment_Penalties_2022.jpg?raw=true\" width=500\">\n",
    "</p>"
   ]
  },
  {
   "cell_type": "markdown",
   "metadata": {},
   "source": [
    "Design and program Python cells to encode an English sentence into Morse code and binary. \n",
    "\n",
    "- Pass an English message to the `text_2_Morse` function to convert it to Morse code.\n",
    "- Pass an English message to the `text_2_Binary` function to convert it to Morse/Binary\n",
    "- Your functions are to handle characters between A-Z including lower case a-z.\n",
    "- No numbers, punctuation or special characters need to be considered.\n",
    "- In binary, a dot (.) is represented by a 1\n",
    "- In binary, a dash (-) is represented by 11\n",
    "- Each <span style=\"color:red\">symbol</span> (. or -) is terminated by a 0\n",
    "- Each <span style=\"color:green\">letter</span> is terminated by 00\n",
    "- Each <span style=\"color:blue\">word</span> is terminated by 0000\n",
    "\n",
    "For example:\n",
    "\n",
    "English:    HI THERE  \n",
    "Morse:      .... .. - .... . .-. .  \n",
    "Binary:     1<span style=\"color:red\">0</span>10101<span style=\"color:green\">00</span>101<span style=\"color:blue\">0000</span>11001010101001001011010010000"
   ]
  },
  {
   "cell_type": "code",
   "execution_count": 1,
   "metadata": {},
   "outputs": [],
   "source": [
    "# You are encourage to use morse_dict after you have executed this cell\n",
    "\n",
    "morse_dict = {'A' : '.-'   ,  'B' : '-...' ,\n",
    "              'C' : '-.-.' ,  'D' : '-..'  ,  'E':'.'    ,\n",
    "              'F' : '..-.' ,  'G' : '--.'  ,  'H':'....' ,\n",
    "              'I' : '..'   ,  'J' : '.---' ,  'K':'-.-'  ,\n",
    "              'L' : '.-..' ,  'M' : '--'   ,  'N':'-.'   ,\n",
    "              'O' : '---'  ,  'P' : '.--.' ,  'Q':'--.-' ,\n",
    "              'R' : '.-.'  ,  'S' : '...'  ,  'T':'-'    ,\n",
    "              'U' : '..-'  ,  'V' : '...-' ,  'W':'.--'  ,\n",
    "              'X' : '-..-' ,  'Y' : '-.--' ,  'Z':'--..' }\n"
   ]
  },
  {
   "cell_type": "markdown",
   "metadata": {},
   "source": [
    ">## Question 1\n",
    "#### Marks: 30"
   ]
  },
  {
   "cell_type": "code",
   "execution_count": 2,
   "metadata": {},
   "outputs": [
    {
     "name": "stdout",
     "output_type": "stream",
     "text": [
      ".... ..  - .... . .-. . \n"
     ]
    }
   ],
   "source": [
    "# Implement text_2_Morse function\n",
    "morse_dict = { 'A':'.-', 'B':'-...',\n",
    "                'C':'-.-.', 'D':'-..', 'E':'.',\n",
    "                'F':'..-.', 'G':'--.', 'H':'....',\n",
    "                'I':'..', 'J':'.---', 'K':'-.-',\n",
    "                'L':'.-..', 'M':'--', 'N':'-.',\n",
    "                'O':'---', 'P':'.--.', 'Q':'--.-',\n",
    "                'R':'.-.', 'S':'...', 'T':'-',\n",
    "                'U':'..-', 'V':'...-', 'W':'.--',\n",
    "                'X':'-..-', 'Y':'-.--', 'Z':'--..'}\n",
    "\n",
    "# Question 1\n",
    "# Implement text_2_Morse function\n",
    "def text_2_Morse(message):\n",
    "    cipher = ''\n",
    "    for letter in message:\n",
    "        if letter != ' ':\n",
    "            #looks up morse_dict and add the morse code follow by a space to separate characters\n",
    "            cipher = cipher + morse_dict[letter] + ' '\n",
    "        else:\n",
    "            #1 space indicates different characters and 2 indicates different words\n",
    "            cipher = cipher + ' '\n",
    " \n",
    "    return cipher\n",
    "\n",
    "mcode = text_2_Morse('HI THERE')\n",
    "print(mcode)\n",
    "# Expected Output is \\\".... .. - .... . .-. .\n",
    "    "
   ]
  },
  {
   "cell_type": "markdown",
   "metadata": {},
   "source": [
    ">## Question 2\n",
    "#### Marks: 40"
   ]
  },
  {
   "cell_type": "code",
   "execution_count": 5,
   "metadata": {},
   "outputs": [
    {
     "name": "stdout",
     "output_type": "stream",
     "text": [
      "101010100101000011001010101001001011010010000\n"
     ]
    }
   ],
   "source": [
    "binary_dict = { 'A':'101100', 'B':'1101010100',\n",
    "                'C':'11010110100', 'D':'11010100', 'E':'100',\n",
    "                'F':'1010110100', 'G':'110110100', 'H':'101010100',\n",
    "                'I':'10100', 'J':'101101101100', 'K':'110101100',\n",
    "                'L':'1011010100', 'M':'1101100', 'N':'110100',\n",
    "                'O':'1101101100', 'P':'10110110100', 'Q':'110110101100',\n",
    "                'R':'10110100', 'S':'1010100', 'T':'1100',\n",
    "                'U':'10101100', 'V':'1010101100', 'W':'101101100',\n",
    "                'X':'11010101100', 'Y':'110101101100', 'Z':'11011010100'}\n",
    "\n",
    "# define text_2_Binary function                \n",
    "def text_2_binary(message):\n",
    "    cipher = ''\n",
    "    for letter in message:\n",
    "        if letter != ' ':\n",
    "            #looks up binary_dict and add the corresponding binary to cipher\n",
    "            cipher = cipher + binary_dict[letter]\n",
    "        else:\n",
    "            #1 space to indicate 00\n",
    "            cipher = cipher + '00'\n",
    "            \n",
    "    return cipher\n",
    "\n",
    "bcode = text_2_binary('HI THERE ')\n",
    "print(bcode)\n",
    "\n",
    "# Expected Output is \"101010100101000011001010101001001011010010000\""
   ]
  },
  {
   "cell_type": "markdown",
   "metadata": {},
   "source": [
    ">## Question 3\n",
    "#### Marks: 30\n",
    "Test your program with _SIX_ Test Cases.  Your six cases should include the following three samples below. Your code must print\n",
    "1. The original message (Case does not matter)\n",
    "2. The Morse code (Separate each symbol/letter/sord by a single space)\n",
    "3. The encoded message\n",
    "\n",
    "\n",
    "#### Test 1  \n",
    "Message: `HI THERE `  \n",
    "Morse Code: `.... .. - .... . .-. .`   \n",
    "Encoded Message: `101010100101000011001010101001001011010010000`  \n",
    "\n",
    "#### Test 2  \n",
    "Message: `Lucy in the sky with diamonds`     \n",
    "Morse Code: `.-.. ..- -.-. -.-- .. -. - .... . ... -.- -.-- .-- .. - .... -.. .. .- -- --- -. -.. ...`     \n",
    "Encoded Message: `101101010010101100110101101001101011011000010100110100001100101010100100001010100110101100110101101100001011011001010011001010101000011010100101001011001101100110110110011010011010100101010000`   \n",
    "\n",
    "#### Test 3  \n",
    "Message: `The last plane out of Sydney is almost gone`  \n",
    "Morse Code: '`- .... . .-.. .- ... - .--. .-.. .- -. . --- ..- - --- ..-. ... -.-- -.. -. . -.-- .. ... .- .-.. -- --- ... - --. --- -. .`  \n",
    "Encoded Message: `1100101010100100001011010100101100101010011000010110110100101101010010110011010010000110110110010101100110000110110110010101101000010101001101011011001101010011010010011010110110000101001010100001011001011010100110110011011011001010100110000110110100110110110011010010000`   "
   ]
  },
  {
   "cell_type": "code",
   "execution_count": 8,
   "metadata": {},
   "outputs": [
    {
     "name": "stdout",
     "output_type": "stream",
     "text": [
      "Message:  HI THERE \n",
      "Morse code : .... ..  - .... . .-. .  \n",
      "Encoded message : 101010100101000011001010101001001011010010000 \n",
      "\n",
      "Message:  Lucy in the sky with diamonds\n",
      "Morse code : .-.. ..- -.-. -.--  .. -.  - .... .  ... -.- -.--  .-- .. - ....  -.. .. .- -- --- -. -.. ... \n",
      "1011010100101011001101011010011010110110000101001101000011001010101001000010101001101011001101011011000010110110010100110010101010000110101001010010110011011001101101100110100110101001010100 \n",
      "\n",
      "Message:  The last plane out of Sydney is almost gone\n",
      "Morse code : - .... .  .-.. .- ... -  .--. .-.. .- -. .  --- ..- -  --- ..-.  ... -.-- -.. -. . -.--  .. ...  .- .-.. -- --- ... -  --. --- -. . \n",
      "Encoded message : 11001010101001000010110101001011001010100110000101101101001011010100101100110100100001101101100101011001100001101101100101011010000101010011010110110011010100110100100110101101100001010010101000010110010110101001101100110110110010101001100001101101001101101100110100100\n"
     ]
    }
   ],
   "source": [
    "# Your Testing code goes here\n",
    "#\n",
    "morse_dict = { 'A':'.-', 'B':'-...',\n",
    "                'C':'-.-.', 'D':'-..', 'E':'.',\n",
    "                'F':'..-.', 'G':'--.', 'H':'....',\n",
    "                'I':'..', 'J':'.---', 'K':'-.-',\n",
    "                'L':'.-..', 'M':'--', 'N':'-.',\n",
    "                'O':'---', 'P':'.--.', 'Q':'--.-',\n",
    "                'R':'.-.', 'S':'...', 'T':'-',\n",
    "                'U':'..-', 'V':'...-', 'W':'.--',\n",
    "                'X':'-..-', 'Y':'-.--', 'Z':'--..'}\n",
    "\n",
    "binary_dict = { 'A':'101100', 'B':'1101010100',\n",
    "                'C':'11010110100', 'D':'11010100', 'E':'100',\n",
    "                'F':'1010110100', 'G':'110110100', 'H':'101010100',\n",
    "                'I':'10100', 'J':'101101101100', 'K':'110101100',\n",
    "                'L':'1011010100', 'M':'1101100', 'N':'110100',\n",
    "                'O':'1101101100', 'P':'10110110100', 'Q':'110110101100',\n",
    "                'R':'10110100', 'S':'1010100', 'T':'1100',\n",
    "                'U':'10101100', 'V':'1010101100', 'W':'101101100',\n",
    "                'X':'11010101100', 'Y':'110101101100', 'Z':'11011010100'}\n",
    "\n",
    "\n",
    "\n",
    "# define text_2_Morse function\n",
    "def text_2_Morse(message):\n",
    "    cipher = ''\n",
    "    for letter in message:\n",
    "        if letter != ' ':\n",
    "            #looks up morse_dict and add the morse code follow by a space to separate characters\n",
    "            cipher = cipher + morse_dict[letter] + ' '\n",
    "        else:\n",
    "            #1 space indicates different characters and 2 indicates different words\n",
    "            cipher = cipher + ' '\n",
    " \n",
    "    return cipher\n",
    "\n",
    "# define text_2_binary function               \n",
    "def text_2_binary(message):\n",
    "    cipher = ''\n",
    "    for letter in message:\n",
    "        if letter != ' ':\n",
    "            #looks up binary_dict and add the corresponding binary to cipher\n",
    "            cipher = cipher + binary_dict[letter]\n",
    "        else:\n",
    "            #1 space to indicate 00\n",
    "            cipher = cipher + '00'\n",
    "            \n",
    "    return cipher\n",
    "\n",
    "\n",
    "test_1 = 'HI THERE '\n",
    "print(\"Message: \", test_1)\n",
    "mcode = text_2_Morse(test_1)\n",
    "print(\"Morse code :\", mcode)\n",
    "bcode = text_2_binary(test_1)\n",
    "print(\"Encoded message :\", bcode,\"\\n\")\n",
    "\n",
    "test_2 = 'Lucy in the sky with diamonds'\n",
    "print(\"Message: \", test_2)\n",
    "test_2 = test_2.upper()\n",
    "mcode = text_2_Morse(test_2)\n",
    "print(\"Morse code :\", mcode)\n",
    "bcode = text_2_binary(test_2)\n",
    "print(bcode,\"\\n\")\n",
    "\n",
    "test_3 = 'The last plane out of Sydney is almost gone'\n",
    "print(\"Message: \", test_3)\n",
    "test_3 = test_3.upper()\n",
    "mcode = text_2_Morse(test_3)\n",
    "print(\"Morse code :\", mcode)\n",
    "bcode = text_2_binary(test_3)\n",
    "print(\"Encoded message :\", bcode)\n",
    "\n",
    "\n"
   ]
  },
  {
   "cell_type": "markdown",
   "metadata": {},
   "source": [
    "<center>End of assessment</center>"
   ]
  }
 ],
 "metadata": {
  "kernelspec": {
   "display_name": "Python 3.10.5 64-bit",
   "language": "python",
   "name": "python3"
  },
  "language_info": {
   "codemirror_mode": {
    "name": "ipython",
    "version": 3
   },
   "file_extension": ".py",
   "mimetype": "text/x-python",
   "name": "python",
   "nbconvert_exporter": "python",
   "pygments_lexer": "ipython3",
   "version": "3.10.5"
  },
  "orig_nbformat": 4,
  "vscode": {
   "interpreter": {
    "hash": "ca78c360d5468767c364e9b5d61cb48a306cb2bb981b38198bbd2deadd7bede5"
   }
  }
 },
 "nbformat": 4,
 "nbformat_minor": 2
}
