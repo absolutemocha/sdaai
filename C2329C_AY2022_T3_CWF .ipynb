{
 "cells": [
  {
   "cell_type": "markdown",
   "id": "81d187d1",
   "metadata": {},
   "source": [
    "# C2329C Machine Learning Fundamentals\n",
    "\n",
    "## Coursework Final\n",
    "***\n",
    "### Student Name: $<Your Name>$ \n",
    "### Student ID: $<Your ID>$\n",
    "\n",
    "***\n",
    "\n",
    "## Features description from the $CleandDataV20210515.csv$ file:\n",
    "\n",
    "**index_col** time step for the washing cycle\n",
    "\n",
    "**avC:** average current \n",
    "\n",
    "**avP:** average power\n",
    "\n",
    "**avR:** average resistant\n",
    "\n",
    "**maxC:** maximum current \n",
    "\n",
    "**maxP:** maximum power\n",
    "\n",
    "**sdC:** standard deviation for current\n",
    "\n",
    "**sdP:** standard deviation for power\n",
    "\n",
    "**stdCR:** standard deviation for resistant\n",
    "\n",
    "**stdCP:** standard deviation for power\n",
    "\n",
    "**AvRR:** average relative resistance to previous resistance reading\n",
    "\n",
    "**mode:** positive class: Daily Wash | negative class: Not Daily Wash\n"
   ]
  },
  {
   "cell_type": "code",
   "execution_count": 1,
   "id": "7a4a8a70",
   "metadata": {},
   "outputs": [],
   "source": [
    "# Import necessary Python libraries\n",
    "import numpy as np\n",
    "import pandas as pd\n",
    "import seaborn as sns\n",
    "import matplotlib.pyplot as plt"
   ]
  },
  {
   "cell_type": "markdown",
   "id": "a770d865",
   "metadata": {},
   "source": [
    "## Data Preparation Process"
   ]
  },
  {
   "cell_type": "code",
   "execution_count": null,
   "id": "9b886be8",
   "metadata": {},
   "outputs": [],
   "source": [
    "# Continue to write your code here ..."
   ]
  },
  {
   "cell_type": "code",
   "execution_count": null,
   "id": "0e87a9dd",
   "metadata": {},
   "outputs": [],
   "source": []
  },
  {
   "cell_type": "code",
   "execution_count": null,
   "id": "a11baea5",
   "metadata": {},
   "outputs": [],
   "source": []
  },
  {
   "cell_type": "markdown",
   "id": "2051d116",
   "metadata": {},
   "source": [
    "\n",
    "***"
   ]
  },
  {
   "cell_type": "markdown",
   "id": "c1caf715",
   "metadata": {},
   "source": [
    "## K-Nearest Neigbors"
   ]
  },
  {
   "cell_type": "code",
   "execution_count": null,
   "id": "92dd0710",
   "metadata": {},
   "outputs": [],
   "source": [
    "# Build and evaluate your KNN model here ... "
   ]
  },
  {
   "cell_type": "code",
   "execution_count": null,
   "id": "b0657169",
   "metadata": {},
   "outputs": [],
   "source": []
  },
  {
   "cell_type": "code",
   "execution_count": null,
   "id": "318c7767",
   "metadata": {},
   "outputs": [],
   "source": []
  },
  {
   "cell_type": "markdown",
   "id": "ef737a52",
   "metadata": {},
   "source": [
    "\n",
    "***"
   ]
  },
  {
   "cell_type": "markdown",
   "id": "c9654ee4",
   "metadata": {},
   "source": [
    "## Logistic Regression "
   ]
  },
  {
   "cell_type": "code",
   "execution_count": null,
   "id": "5fac89f8",
   "metadata": {},
   "outputs": [],
   "source": [
    "# Build and evaluate your LR model here ... "
   ]
  },
  {
   "cell_type": "code",
   "execution_count": null,
   "id": "0949c8ef",
   "metadata": {},
   "outputs": [],
   "source": []
  },
  {
   "cell_type": "code",
   "execution_count": null,
   "id": "0a8a204d",
   "metadata": {},
   "outputs": [],
   "source": []
  },
  {
   "cell_type": "markdown",
   "id": "d563ff97",
   "metadata": {},
   "source": [
    "\n",
    "\n",
    "***"
   ]
  }
 ],
 "metadata": {
  "kernelspec": {
   "display_name": "Python 3 (ipykernel)",
   "language": "python",
   "name": "python3"
  },
  "language_info": {
   "codemirror_mode": {
    "name": "ipython",
    "version": 3
   },
   "file_extension": ".py",
   "mimetype": "text/x-python",
   "name": "python",
   "nbconvert_exporter": "python",
   "pygments_lexer": "ipython3",
   "version": "3.9.7"
  }
 },
 "nbformat": 4,
 "nbformat_minor": 5
}
