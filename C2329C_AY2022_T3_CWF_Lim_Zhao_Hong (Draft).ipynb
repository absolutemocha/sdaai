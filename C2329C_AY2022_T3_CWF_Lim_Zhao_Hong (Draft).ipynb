{
  "cells": [
    {
      "cell_type": "markdown",
      "metadata": {
        "id": "view-in-github",
        "colab_type": "text"
      },
      "source": [
        "<a href=\"https://colab.research.google.com/github/absolutemocha/sdaai/blob/main/C2329C_AY2022_T3_CWF_Lim_Zhao_Hong%20(Draft).ipynb\" target=\"_parent\"><img src=\"https://colab.research.google.com/assets/colab-badge.svg\" alt=\"Open In Colab\"/></a>"
      ]
    },
    {
      "cell_type": "markdown",
      "id": "81d187d1",
      "metadata": {
        "id": "81d187d1"
      },
      "source": [
        "# C2329C Machine Learning Fundamentals\n",
        "\n",
        "## Coursework Final\n",
        "***\n",
        "### Student Name: $<Lim Zhao Hong>$ \n",
        "### Student ID: $<20065320>$\n",
        "\n",
        "***\n",
        "\n",
        "## Features description from the $CleandDataV20210515.csv$ file:\n",
        "\n",
        "**index_col** time step for the washing cycle\n",
        "\n",
        "**avC:** average current \n",
        "\n",
        "**avP:** average power\n",
        "\n",
        "**avR:** average resistant\n",
        "\n",
        "**maxC:** maximum current \n",
        "\n",
        "**maxP:** maximum power\n",
        "\n",
        "**sdC:** standard deviation for current\n",
        "\n",
        "**sdP:** standard deviation for power\n",
        "\n",
        "**stdCR:** standard deviation for resistant\n",
        "\n",
        "**stdCP:** standard deviation for power\n",
        "\n",
        "**AvRR:** average relative resistance to previous resistance reading\n",
        "\n",
        "**mode:** positive class: Daily Wash | negative class: Not Daily Wash\n"
      ]
    },
    {
      "cell_type": "code",
      "execution_count": 1,
      "id": "7a4a8a70",
      "metadata": {
        "id": "7a4a8a70"
      },
      "outputs": [],
      "source": [
        "# Import necessary Python libraries\n",
        "import numpy as np\n",
        "import pandas as pd\n",
        "import seaborn as sns\n",
        "import matplotlib.pyplot as plt\n",
        "\n",
        "#import library to access google drive\n",
        "from pydrive.auth import GoogleAuth\n",
        "from pydrive.drive import GoogleDrive\n",
        "from google.colab import auth\n",
        "from oauth2client.client import GoogleCredentials"
      ]
    },
    {
      "cell_type": "code",
      "source": [
        "#Grant access to file in google drive\n",
        "auth.authenticate_user()\n",
        "gauth = GoogleAuth()\n",
        "gauth.credentials = GoogleCredentials.get_application_default()\n",
        "drive = GoogleDrive(gauth)"
      ],
      "metadata": {
        "id": "Vs84_NATfspP"
      },
      "id": "Vs84_NATfspP",
      "execution_count": 2,
      "outputs": []
    },
    {
      "cell_type": "markdown",
      "id": "a770d865",
      "metadata": {
        "id": "a770d865"
      },
      "source": [
        "## Data Preparation Process"
      ]
    },
    {
      "cell_type": "code",
      "source": [
        "#Data link in google drive\n",
        "fileDownloaded = drive.CreateFile({'id':'1jOG2UnniYBiMzB2vEszHXRjkIOzGR3Gq'})\n",
        "fileDownloaded.GetContentFile('CleandDataV20210515.csv')"
      ],
      "metadata": {
        "id": "KpkDLC7qe5Kw"
      },
      "id": "KpkDLC7qe5Kw",
      "execution_count": 3,
      "outputs": []
    },
    {
      "cell_type": "code",
      "source": [
        "import pandas as pd\n",
        "data = pd.read_csv('CleandDataV20210515.csv', sep=',')\n",
        "\n",
        "data.head()"
      ],
      "metadata": {
        "id": "FXqUb8fYe5m3",
        "outputId": "3eb5437c-6623-48a7-e9f2-439545ef7d81",
        "colab": {
          "base_uri": "https://localhost:8080/",
          "height": 206
        }
      },
      "id": "FXqUb8fYe5m3",
      "execution_count": 4,
      "outputs": [
        {
          "output_type": "execute_result",
          "data": {
            "text/plain": [
              "   Unnamed: 0       mode  index_col       avC         avP       sdC  \\\n",
              "0           0  DailyWash          0  2.225000  474.533333  3.011970   \n",
              "1           1  DailyWash          1  2.170200  462.000000  2.974442   \n",
              "2           2  DailyWash          2  3.277750  723.400000  3.327151   \n",
              "3           3  DailyWash          3  3.514900  778.690000  3.339524   \n",
              "4           4  DailyWash          4  3.012417  658.825000  3.248720   \n",
              "\n",
              "          sdP         avR  maxC  maxP     stdCR       stdCP        AvRR  \n",
              "0  706.975234  641.340763  7.15  1632  3.011970  706.975234  641.340763  \n",
              "1  700.150305  679.240121  7.18  1656  2.993026  707.624834  736.089159  \n",
              "2  786.046969  503.949590  7.20  1659  3.093103  735.333466  211.798705  \n",
              "3  790.007514  443.911955  7.19  1648  3.301263  786.483330  203.761414  \n",
              "4  769.232288  468.640063  0.61    76  0.138488   18.963955  592.280603  "
            ],
            "text/html": [
              "\n",
              "  <div id=\"df-cacd2eeb-44c6-4522-a796-d169a0866201\">\n",
              "    <div class=\"colab-df-container\">\n",
              "      <div>\n",
              "<style scoped>\n",
              "    .dataframe tbody tr th:only-of-type {\n",
              "        vertical-align: middle;\n",
              "    }\n",
              "\n",
              "    .dataframe tbody tr th {\n",
              "        vertical-align: top;\n",
              "    }\n",
              "\n",
              "    .dataframe thead th {\n",
              "        text-align: right;\n",
              "    }\n",
              "</style>\n",
              "<table border=\"1\" class=\"dataframe\">\n",
              "  <thead>\n",
              "    <tr style=\"text-align: right;\">\n",
              "      <th></th>\n",
              "      <th>Unnamed: 0</th>\n",
              "      <th>mode</th>\n",
              "      <th>index_col</th>\n",
              "      <th>avC</th>\n",
              "      <th>avP</th>\n",
              "      <th>sdC</th>\n",
              "      <th>sdP</th>\n",
              "      <th>avR</th>\n",
              "      <th>maxC</th>\n",
              "      <th>maxP</th>\n",
              "      <th>stdCR</th>\n",
              "      <th>stdCP</th>\n",
              "      <th>AvRR</th>\n",
              "    </tr>\n",
              "  </thead>\n",
              "  <tbody>\n",
              "    <tr>\n",
              "      <th>0</th>\n",
              "      <td>0</td>\n",
              "      <td>DailyWash</td>\n",
              "      <td>0</td>\n",
              "      <td>2.225000</td>\n",
              "      <td>474.533333</td>\n",
              "      <td>3.011970</td>\n",
              "      <td>706.975234</td>\n",
              "      <td>641.340763</td>\n",
              "      <td>7.15</td>\n",
              "      <td>1632</td>\n",
              "      <td>3.011970</td>\n",
              "      <td>706.975234</td>\n",
              "      <td>641.340763</td>\n",
              "    </tr>\n",
              "    <tr>\n",
              "      <th>1</th>\n",
              "      <td>1</td>\n",
              "      <td>DailyWash</td>\n",
              "      <td>1</td>\n",
              "      <td>2.170200</td>\n",
              "      <td>462.000000</td>\n",
              "      <td>2.974442</td>\n",
              "      <td>700.150305</td>\n",
              "      <td>679.240121</td>\n",
              "      <td>7.18</td>\n",
              "      <td>1656</td>\n",
              "      <td>2.993026</td>\n",
              "      <td>707.624834</td>\n",
              "      <td>736.089159</td>\n",
              "    </tr>\n",
              "    <tr>\n",
              "      <th>2</th>\n",
              "      <td>2</td>\n",
              "      <td>DailyWash</td>\n",
              "      <td>2</td>\n",
              "      <td>3.277750</td>\n",
              "      <td>723.400000</td>\n",
              "      <td>3.327151</td>\n",
              "      <td>786.046969</td>\n",
              "      <td>503.949590</td>\n",
              "      <td>7.20</td>\n",
              "      <td>1659</td>\n",
              "      <td>3.093103</td>\n",
              "      <td>735.333466</td>\n",
              "      <td>211.798705</td>\n",
              "    </tr>\n",
              "    <tr>\n",
              "      <th>3</th>\n",
              "      <td>3</td>\n",
              "      <td>DailyWash</td>\n",
              "      <td>3</td>\n",
              "      <td>3.514900</td>\n",
              "      <td>778.690000</td>\n",
              "      <td>3.339524</td>\n",
              "      <td>790.007514</td>\n",
              "      <td>443.911955</td>\n",
              "      <td>7.19</td>\n",
              "      <td>1648</td>\n",
              "      <td>3.301263</td>\n",
              "      <td>786.483330</td>\n",
              "      <td>203.761414</td>\n",
              "    </tr>\n",
              "    <tr>\n",
              "      <th>4</th>\n",
              "      <td>4</td>\n",
              "      <td>DailyWash</td>\n",
              "      <td>4</td>\n",
              "      <td>3.012417</td>\n",
              "      <td>658.825000</td>\n",
              "      <td>3.248720</td>\n",
              "      <td>769.232288</td>\n",
              "      <td>468.640063</td>\n",
              "      <td>0.61</td>\n",
              "      <td>76</td>\n",
              "      <td>0.138488</td>\n",
              "      <td>18.963955</td>\n",
              "      <td>592.280603</td>\n",
              "    </tr>\n",
              "  </tbody>\n",
              "</table>\n",
              "</div>\n",
              "      <button class=\"colab-df-convert\" onclick=\"convertToInteractive('df-cacd2eeb-44c6-4522-a796-d169a0866201')\"\n",
              "              title=\"Convert this dataframe to an interactive table.\"\n",
              "              style=\"display:none;\">\n",
              "        \n",
              "  <svg xmlns=\"http://www.w3.org/2000/svg\" height=\"24px\"viewBox=\"0 0 24 24\"\n",
              "       width=\"24px\">\n",
              "    <path d=\"M0 0h24v24H0V0z\" fill=\"none\"/>\n",
              "    <path d=\"M18.56 5.44l.94 2.06.94-2.06 2.06-.94-2.06-.94-.94-2.06-.94 2.06-2.06.94zm-11 1L8.5 8.5l.94-2.06 2.06-.94-2.06-.94L8.5 2.5l-.94 2.06-2.06.94zm10 10l.94 2.06.94-2.06 2.06-.94-2.06-.94-.94-2.06-.94 2.06-2.06.94z\"/><path d=\"M17.41 7.96l-1.37-1.37c-.4-.4-.92-.59-1.43-.59-.52 0-1.04.2-1.43.59L10.3 9.45l-7.72 7.72c-.78.78-.78 2.05 0 2.83L4 21.41c.39.39.9.59 1.41.59.51 0 1.02-.2 1.41-.59l7.78-7.78 2.81-2.81c.8-.78.8-2.07 0-2.86zM5.41 20L4 18.59l7.72-7.72 1.47 1.35L5.41 20z\"/>\n",
              "  </svg>\n",
              "      </button>\n",
              "      \n",
              "  <style>\n",
              "    .colab-df-container {\n",
              "      display:flex;\n",
              "      flex-wrap:wrap;\n",
              "      gap: 12px;\n",
              "    }\n",
              "\n",
              "    .colab-df-convert {\n",
              "      background-color: #E8F0FE;\n",
              "      border: none;\n",
              "      border-radius: 50%;\n",
              "      cursor: pointer;\n",
              "      display: none;\n",
              "      fill: #1967D2;\n",
              "      height: 32px;\n",
              "      padding: 0 0 0 0;\n",
              "      width: 32px;\n",
              "    }\n",
              "\n",
              "    .colab-df-convert:hover {\n",
              "      background-color: #E2EBFA;\n",
              "      box-shadow: 0px 1px 2px rgba(60, 64, 67, 0.3), 0px 1px 3px 1px rgba(60, 64, 67, 0.15);\n",
              "      fill: #174EA6;\n",
              "    }\n",
              "\n",
              "    [theme=dark] .colab-df-convert {\n",
              "      background-color: #3B4455;\n",
              "      fill: #D2E3FC;\n",
              "    }\n",
              "\n",
              "    [theme=dark] .colab-df-convert:hover {\n",
              "      background-color: #434B5C;\n",
              "      box-shadow: 0px 1px 3px 1px rgba(0, 0, 0, 0.15);\n",
              "      filter: drop-shadow(0px 1px 2px rgba(0, 0, 0, 0.3));\n",
              "      fill: #FFFFFF;\n",
              "    }\n",
              "  </style>\n",
              "\n",
              "      <script>\n",
              "        const buttonEl =\n",
              "          document.querySelector('#df-cacd2eeb-44c6-4522-a796-d169a0866201 button.colab-df-convert');\n",
              "        buttonEl.style.display =\n",
              "          google.colab.kernel.accessAllowed ? 'block' : 'none';\n",
              "\n",
              "        async function convertToInteractive(key) {\n",
              "          const element = document.querySelector('#df-cacd2eeb-44c6-4522-a796-d169a0866201');\n",
              "          const dataTable =\n",
              "            await google.colab.kernel.invokeFunction('convertToInteractive',\n",
              "                                                     [key], {});\n",
              "          if (!dataTable) return;\n",
              "\n",
              "          const docLinkHtml = 'Like what you see? Visit the ' +\n",
              "            '<a target=\"_blank\" href=https://colab.research.google.com/notebooks/data_table.ipynb>data table notebook</a>'\n",
              "            + ' to learn more about interactive tables.';\n",
              "          element.innerHTML = '';\n",
              "          dataTable['output_type'] = 'display_data';\n",
              "          await google.colab.output.renderOutput(dataTable, element);\n",
              "          const docLink = document.createElement('div');\n",
              "          docLink.innerHTML = docLinkHtml;\n",
              "          element.appendChild(docLink);\n",
              "        }\n",
              "      </script>\n",
              "    </div>\n",
              "  </div>\n",
              "  "
            ]
          },
          "metadata": {},
          "execution_count": 4
        }
      ]
    },
    {
      "cell_type": "code",
      "execution_count": 5,
      "id": "a11baea5",
      "metadata": {
        "id": "a11baea5",
        "outputId": "cd8ccd73-a714-4aed-a049-14a2824dbad4",
        "colab": {
          "base_uri": "https://localhost:8080/",
          "height": 457
        }
      },
      "outputs": [
        {
          "output_type": "execute_result",
          "data": {
            "text/plain": [
              "                     0\n",
              "Unnamed: 0           0\n",
              "mode         DailyWash\n",
              "index_col            0\n",
              "avC              2.225\n",
              "avP         474.533333\n",
              "sdC            3.01197\n",
              "sdP         706.975234\n",
              "avR         641.340763\n",
              "maxC              7.15\n",
              "maxP              1632\n",
              "stdCR          3.01197\n",
              "stdCP       706.975234\n",
              "AvRR        641.340763"
            ],
            "text/html": [
              "\n",
              "  <div id=\"df-eb2558da-fff6-428d-be5a-1bdd06e5f9a6\">\n",
              "    <div class=\"colab-df-container\">\n",
              "      <div>\n",
              "<style scoped>\n",
              "    .dataframe tbody tr th:only-of-type {\n",
              "        vertical-align: middle;\n",
              "    }\n",
              "\n",
              "    .dataframe tbody tr th {\n",
              "        vertical-align: top;\n",
              "    }\n",
              "\n",
              "    .dataframe thead th {\n",
              "        text-align: right;\n",
              "    }\n",
              "</style>\n",
              "<table border=\"1\" class=\"dataframe\">\n",
              "  <thead>\n",
              "    <tr style=\"text-align: right;\">\n",
              "      <th></th>\n",
              "      <th>0</th>\n",
              "    </tr>\n",
              "  </thead>\n",
              "  <tbody>\n",
              "    <tr>\n",
              "      <th>Unnamed: 0</th>\n",
              "      <td>0</td>\n",
              "    </tr>\n",
              "    <tr>\n",
              "      <th>mode</th>\n",
              "      <td>DailyWash</td>\n",
              "    </tr>\n",
              "    <tr>\n",
              "      <th>index_col</th>\n",
              "      <td>0</td>\n",
              "    </tr>\n",
              "    <tr>\n",
              "      <th>avC</th>\n",
              "      <td>2.225</td>\n",
              "    </tr>\n",
              "    <tr>\n",
              "      <th>avP</th>\n",
              "      <td>474.533333</td>\n",
              "    </tr>\n",
              "    <tr>\n",
              "      <th>sdC</th>\n",
              "      <td>3.01197</td>\n",
              "    </tr>\n",
              "    <tr>\n",
              "      <th>sdP</th>\n",
              "      <td>706.975234</td>\n",
              "    </tr>\n",
              "    <tr>\n",
              "      <th>avR</th>\n",
              "      <td>641.340763</td>\n",
              "    </tr>\n",
              "    <tr>\n",
              "      <th>maxC</th>\n",
              "      <td>7.15</td>\n",
              "    </tr>\n",
              "    <tr>\n",
              "      <th>maxP</th>\n",
              "      <td>1632</td>\n",
              "    </tr>\n",
              "    <tr>\n",
              "      <th>stdCR</th>\n",
              "      <td>3.01197</td>\n",
              "    </tr>\n",
              "    <tr>\n",
              "      <th>stdCP</th>\n",
              "      <td>706.975234</td>\n",
              "    </tr>\n",
              "    <tr>\n",
              "      <th>AvRR</th>\n",
              "      <td>641.340763</td>\n",
              "    </tr>\n",
              "  </tbody>\n",
              "</table>\n",
              "</div>\n",
              "      <button class=\"colab-df-convert\" onclick=\"convertToInteractive('df-eb2558da-fff6-428d-be5a-1bdd06e5f9a6')\"\n",
              "              title=\"Convert this dataframe to an interactive table.\"\n",
              "              style=\"display:none;\">\n",
              "        \n",
              "  <svg xmlns=\"http://www.w3.org/2000/svg\" height=\"24px\"viewBox=\"0 0 24 24\"\n",
              "       width=\"24px\">\n",
              "    <path d=\"M0 0h24v24H0V0z\" fill=\"none\"/>\n",
              "    <path d=\"M18.56 5.44l.94 2.06.94-2.06 2.06-.94-2.06-.94-.94-2.06-.94 2.06-2.06.94zm-11 1L8.5 8.5l.94-2.06 2.06-.94-2.06-.94L8.5 2.5l-.94 2.06-2.06.94zm10 10l.94 2.06.94-2.06 2.06-.94-2.06-.94-.94-2.06-.94 2.06-2.06.94z\"/><path d=\"M17.41 7.96l-1.37-1.37c-.4-.4-.92-.59-1.43-.59-.52 0-1.04.2-1.43.59L10.3 9.45l-7.72 7.72c-.78.78-.78 2.05 0 2.83L4 21.41c.39.39.9.59 1.41.59.51 0 1.02-.2 1.41-.59l7.78-7.78 2.81-2.81c.8-.78.8-2.07 0-2.86zM5.41 20L4 18.59l7.72-7.72 1.47 1.35L5.41 20z\"/>\n",
              "  </svg>\n",
              "      </button>\n",
              "      \n",
              "  <style>\n",
              "    .colab-df-container {\n",
              "      display:flex;\n",
              "      flex-wrap:wrap;\n",
              "      gap: 12px;\n",
              "    }\n",
              "\n",
              "    .colab-df-convert {\n",
              "      background-color: #E8F0FE;\n",
              "      border: none;\n",
              "      border-radius: 50%;\n",
              "      cursor: pointer;\n",
              "      display: none;\n",
              "      fill: #1967D2;\n",
              "      height: 32px;\n",
              "      padding: 0 0 0 0;\n",
              "      width: 32px;\n",
              "    }\n",
              "\n",
              "    .colab-df-convert:hover {\n",
              "      background-color: #E2EBFA;\n",
              "      box-shadow: 0px 1px 2px rgba(60, 64, 67, 0.3), 0px 1px 3px 1px rgba(60, 64, 67, 0.15);\n",
              "      fill: #174EA6;\n",
              "    }\n",
              "\n",
              "    [theme=dark] .colab-df-convert {\n",
              "      background-color: #3B4455;\n",
              "      fill: #D2E3FC;\n",
              "    }\n",
              "\n",
              "    [theme=dark] .colab-df-convert:hover {\n",
              "      background-color: #434B5C;\n",
              "      box-shadow: 0px 1px 3px 1px rgba(0, 0, 0, 0.15);\n",
              "      filter: drop-shadow(0px 1px 2px rgba(0, 0, 0, 0.3));\n",
              "      fill: #FFFFFF;\n",
              "    }\n",
              "  </style>\n",
              "\n",
              "      <script>\n",
              "        const buttonEl =\n",
              "          document.querySelector('#df-eb2558da-fff6-428d-be5a-1bdd06e5f9a6 button.colab-df-convert');\n",
              "        buttonEl.style.display =\n",
              "          google.colab.kernel.accessAllowed ? 'block' : 'none';\n",
              "\n",
              "        async function convertToInteractive(key) {\n",
              "          const element = document.querySelector('#df-eb2558da-fff6-428d-be5a-1bdd06e5f9a6');\n",
              "          const dataTable =\n",
              "            await google.colab.kernel.invokeFunction('convertToInteractive',\n",
              "                                                     [key], {});\n",
              "          if (!dataTable) return;\n",
              "\n",
              "          const docLinkHtml = 'Like what you see? Visit the ' +\n",
              "            '<a target=\"_blank\" href=https://colab.research.google.com/notebooks/data_table.ipynb>data table notebook</a>'\n",
              "            + ' to learn more about interactive tables.';\n",
              "          element.innerHTML = '';\n",
              "          dataTable['output_type'] = 'display_data';\n",
              "          await google.colab.output.renderOutput(dataTable, element);\n",
              "          const docLink = document.createElement('div');\n",
              "          docLink.innerHTML = docLinkHtml;\n",
              "          element.appendChild(docLink);\n",
              "        }\n",
              "      </script>\n",
              "    </div>\n",
              "  </div>\n",
              "  "
            ]
          },
          "metadata": {},
          "execution_count": 5
        }
      ],
      "source": [
        "data.head(1).T"
      ]
    },
    {
      "cell_type": "code",
      "source": [
        "data.dtypes"
      ],
      "metadata": {
        "id": "QfO8TraNrJ4L",
        "outputId": "e10769c3-854e-4a87-d3a9-5946fcf6f67e",
        "colab": {
          "base_uri": "https://localhost:8080/"
        }
      },
      "id": "QfO8TraNrJ4L",
      "execution_count": 6,
      "outputs": [
        {
          "output_type": "execute_result",
          "data": {
            "text/plain": [
              "Unnamed: 0      int64\n",
              "mode           object\n",
              "index_col       int64\n",
              "avC           float64\n",
              "avP           float64\n",
              "sdC           float64\n",
              "sdP           float64\n",
              "avR           float64\n",
              "maxC          float64\n",
              "maxP            int64\n",
              "stdCR         float64\n",
              "stdCP         float64\n",
              "AvRR          float64\n",
              "dtype: object"
            ]
          },
          "metadata": {},
          "execution_count": 6
        }
      ]
    },
    {
      "cell_type": "code",
      "source": [
        "# Remove extraneous columns\n",
        "# data.drop(['mode', 'area_code', 'phone_number'], axis=1, inplace=True)\n",
        "\n",
        "# Get a list of all the columns that don't contain the label\n",
        "\n",
        "x_cols = [x for x in data.columns if x != 'mode']\n",
        "\n",
        "x_data = data[x_cols]\n",
        "print (x_data)"
      ],
      "metadata": {
        "id": "AlIrQDDsgp6y",
        "outputId": "a2cad8bd-a1b9-4186-a973-a782abf4cf9f",
        "colab": {
          "base_uri": "https://localhost:8080/"
        }
      },
      "id": "AlIrQDDsgp6y",
      "execution_count": 7,
      "outputs": [
        {
          "output_type": "stream",
          "name": "stdout",
          "text": [
            "      Unnamed: 0  index_col       avC         avP       sdC         sdP  \\\n",
            "0              0          0  2.225000  474.533333  3.011970  706.975234   \n",
            "1              1          1  2.170200  462.000000  2.974442  700.150305   \n",
            "2              2          2  3.277750  723.400000  3.327151  786.046969   \n",
            "3              3          3  3.514900  778.690000  3.339524  790.007514   \n",
            "4              4          4  3.012417  658.825000  3.248720  769.232288   \n",
            "...          ...        ...       ...         ...       ...         ...   \n",
            "1026          12         12  0.497351   68.908108  0.457768   72.386738   \n",
            "1027          13         13  0.484075   66.747500  0.445371   70.431137   \n",
            "1028          14         14  0.467512   64.206977  0.435940   68.820644   \n",
            "1029          15         15  0.466289   64.042222  0.428875   67.693074   \n",
            "1030          16         16  0.496708   68.904167  0.462365   73.301214   \n",
            "\n",
            "              avR  maxC  maxP     stdCR       stdCP         AvRR  \n",
            "0      641.340763  7.15  1632  3.011970  706.975234   641.340763  \n",
            "1      679.240121  7.18  1656  2.993026  707.624834   736.089159  \n",
            "2      503.949590  7.20  1659  3.093103  735.333466   211.798705  \n",
            "3      443.911955  7.19  1648  3.301263  786.483330   203.761414  \n",
            "4      468.640063  0.61    76  0.138488   18.963955   592.280603  \n",
            "...           ...   ...   ...       ...         ...          ...  \n",
            "1026  1025.006192  1.54   239  0.543518   85.622154   459.384424  \n",
            "1027  1035.622586  0.54    76  0.180965   27.994273  1166.558121  \n",
            "1028  1057.136868  0.61    76  0.167339   23.195323  1343.993958  \n",
            "1029  1040.713601  0.93   139  0.234296   36.526126   687.613365  \n",
            "1030  1038.640895  1.68   259  0.673448  109.233405  1007.550307  \n",
            "\n",
            "[1031 rows x 12 columns]\n"
          ]
        }
      ]
    },
    {
      "cell_type": "code",
      "source": [
        "x_data.columns"
      ],
      "metadata": {
        "id": "gEDGihIRhDop",
        "outputId": "dbc7346d-7b51-46b7-e0aa-e90f133e733e",
        "colab": {
          "base_uri": "https://localhost:8080/"
        }
      },
      "id": "gEDGihIRhDop",
      "execution_count": 8,
      "outputs": [
        {
          "output_type": "execute_result",
          "data": {
            "text/plain": [
              "Index(['Unnamed: 0', 'index_col', 'avC', 'avP', 'sdC', 'sdP', 'avR', 'maxC',\n",
              "       'maxP', 'stdCR', 'stdCP', 'AvRR'],\n",
              "      dtype='object')"
            ]
          },
          "metadata": {},
          "execution_count": 8
        }
      ]
    },
    {
      "cell_type": "markdown",
      "source": [
        "Visualize the relationship between the variables."
      ],
      "metadata": {
        "id": "Hg3ij8imxCw7"
      },
      "id": "Hg3ij8imxCw7"
    },
    {
      "cell_type": "code",
      "source": [
        "import seaborn as sns\n",
        "import matplotlib.pyplot as plt\n",
        "\n",
        "%matplotlib inline\n",
        "\n",
        "sns.set_context('notebook')\n",
        "sns.set_palette('dark')\n",
        "sns.set_style('white')\n",
        "\n",
        "sns.pairplot(data);"
      ],
      "metadata": {
        "id": "y0zGD1aqw-uz"
      },
      "id": "y0zGD1aqw-uz",
      "execution_count": 9,
      "outputs": []
    },
    {
      "cell_type": "markdown",
      "id": "2051d116",
      "metadata": {
        "id": "2051d116"
      },
      "source": [
        "\n",
        "***"
      ]
    },
    {
      "cell_type": "markdown",
      "id": "c1caf715",
      "metadata": {
        "id": "c1caf715"
      },
      "source": [
        "## Predictive models : K-Nearest Neigbors"
      ]
    },
    {
      "cell_type": "code",
      "execution_count": 10,
      "id": "92dd0710",
      "metadata": {
        "id": "92dd0710"
      },
      "outputs": [],
      "source": [
        "#K-nearest neighbors requires scaled data. Scale the data using one of the scaling methods discussed in the lecture.\n",
        "\n",
        "##from sklearn.preprocessing import LabelBinarizer\n",
        "\n",
        "##lb = LabelBinarizer()\n",
        "\n",
        "##for col in ['mode']:\n",
        "##    data[col] = lb.fit_transform(data[col])"
      ]
    },
    {
      "cell_type": "code",
      "execution_count": 11,
      "id": "b0657169",
      "metadata": {
        "id": "b0657169"
      },
      "outputs": [],
      "source": [
        "# Mute the sklearn warning\n",
        "import warnings\n",
        "warnings.filterwarnings('ignore', module='sklearn')\n",
        "\n",
        "from sklearn.preprocessing import MinMaxScaler\n",
        "\n",
        "msc = MinMaxScaler()\n",
        "\n",
        "X_data = pd.DataFrame(msc.fit_transform(x_data),  # this is an np.array, not a dataframe.\n",
        "                    columns=x_data.columns)"
      ]
    },
    {
      "cell_type": "code",
      "execution_count": 12,
      "id": "318c7767",
      "metadata": {
        "id": "318c7767",
        "colab": {
          "base_uri": "https://localhost:8080/"
        },
        "outputId": "556d6e25-29fd-4d84-c6a8-2fc65f0aa557"
      },
      "outputs": [
        {
          "output_type": "execute_result",
          "data": {
            "text/plain": [
              "array([8, 8, 8, ..., 1, 1, 1])"
            ]
          },
          "metadata": {},
          "execution_count": 12
        }
      ],
      "source": [
        "# Get a list of all the columns that don't contain the label\n",
        "#x_cols = [x for x in data.columns if x != 'mode']\n",
        "\n",
        "# Split the data into two dataframes\n",
        "#X_data = data[x_cols]\n",
        "y_data = data['mode']\n",
        "\n",
        "# # alternatively:\n",
        "# X_data = data.copy()\n",
        "# y_data = X_data.pop('mode')\n",
        "\n",
        "from sklearn.preprocessing import LabelEncoder\n",
        "\n",
        "le = LabelEncoder()\n",
        "\n",
        "y_data = le.fit_transform(y_data)\n",
        "\n",
        "y_data\n"
      ]
    },
    {
      "cell_type": "code",
      "source": [
        "from sklearn.model_selection import train_test_split\n",
        "\n",
        "X_train, X_test, y_train, y_test = train_test_split(X_data, y_data, \n",
        "                                                    test_size=0.3, random_state=42)"
      ],
      "metadata": {
        "id": "taOlVI76Y3Zl"
      },
      "id": "taOlVI76Y3Zl",
      "execution_count": 13,
      "outputs": []
    },
    {
      "cell_type": "code",
      "source": [
        "print (X_data)"
      ],
      "metadata": {
        "id": "S584iwbAFYI9",
        "outputId": "5e526247-2407-4666-85d9-701c46a1c62e",
        "colab": {
          "base_uri": "https://localhost:8080/"
        }
      },
      "id": "S584iwbAFYI9",
      "execution_count": 14,
      "outputs": [
        {
          "output_type": "stream",
          "name": "stdout",
          "text": [
            "      Unnamed: 0  index_col       avC       avP       sdC       sdP       avR  \\\n",
            "0       0.000000   0.000000  0.582733  0.562153  0.878526  0.866351  0.215837   \n",
            "1       0.045455   0.045455  0.566889  0.546613  0.867005  0.857709  0.245561   \n",
            "2       0.090909   0.090909  0.887111  0.870718  0.975286  0.966481  0.108082   \n",
            "3       0.136364   0.136364  0.955677  0.939271  0.979085  0.971496  0.060994   \n",
            "4       0.181818   0.181818  0.810396  0.790653  0.951208  0.945188  0.080388   \n",
            "...          ...        ...       ...       ...       ...       ...       ...   \n",
            "1026    0.545455   0.545455  0.083225  0.059227  0.094391  0.062762  0.516744   \n",
            "1027    0.590909   0.590909  0.079387  0.056548  0.090585  0.060285  0.525071   \n",
            "1028    0.636364   0.636364  0.074598  0.053398  0.087690  0.058246  0.541944   \n",
            "1029    0.681818   0.681818  0.074244  0.053194  0.085521  0.056818  0.529064   \n",
            "1030    0.727273   0.727273  0.083039  0.059222  0.095802  0.063920  0.527438   \n",
            "\n",
            "          maxC      maxP     stdCR     stdCP      AvRR  \n",
            "0     0.973793  0.956598  0.879739  0.863032  0.207163  \n",
            "1     0.977931  0.970674  0.874206  0.863825  0.244722  \n",
            "2     0.980690  0.972434  0.903436  0.897650  0.036892  \n",
            "3     0.979310  0.965982  0.964236  0.960090  0.033706  \n",
            "4     0.071724  0.043988  0.040450  0.023150  0.187716  \n",
            "...        ...       ...       ...       ...       ...  \n",
            "1026  0.200000  0.139589  0.158751  0.104522  0.135036  \n",
            "1027  0.062069  0.043988  0.052856  0.034174  0.415360  \n",
            "1028  0.071724  0.043988  0.048876  0.028315  0.485696  \n",
            "1029  0.115862  0.080938  0.068433  0.044589  0.225506  \n",
            "1030  0.219310  0.151320  0.196701  0.133345  0.352329  \n",
            "\n",
            "[1031 rows x 12 columns]\n"
          ]
        }
      ]
    },
    {
      "cell_type": "code",
      "source": [
        "print (y_data)"
      ],
      "metadata": {
        "colab": {
          "base_uri": "https://localhost:8080/"
        },
        "id": "16eAxPjHXNnt",
        "outputId": "4c94a172-f509-45fb-db0d-e081628cda27"
      },
      "id": "16eAxPjHXNnt",
      "execution_count": 15,
      "outputs": [
        {
          "output_type": "stream",
          "name": "stdout",
          "text": [
            "[8 8 8 ... 1 1 1]\n"
          ]
        }
      ]
    },
    {
      "cell_type": "code",
      "source": [
        "from sklearn.neighbors import KNeighborsClassifier\n",
        "\n",
        "knn = KNeighborsClassifier(n_neighbors=3)\n",
        "\n",
        "knn = knn.fit(X_train, y_train)\n",
        "\n",
        "y_test_pred = knn.predict(X_test)"
      ],
      "metadata": {
        "id": "BPNzmB23pXmf"
      },
      "id": "BPNzmB23pXmf",
      "execution_count": 16,
      "outputs": []
    },
    {
      "cell_type": "code",
      "source": [
        "# Function to calculate the % of values that were correctly predicted\n",
        "\n",
        "def accuracy(real, predict):\n",
        "    return sum(real == predict) / float(real.shape[0])\n",
        "\n",
        "print(accuracy(y_test, y_test_pred))"
      ],
      "metadata": {
        "id": "tdwy1AJvprYI",
        "outputId": "b4f32635-4670-4a01-b791-2a9a2ed608b3",
        "colab": {
          "base_uri": "https://localhost:8080/"
        }
      },
      "id": "tdwy1AJvprYI",
      "execution_count": 17,
      "outputs": [
        {
          "output_type": "stream",
          "name": "stdout",
          "text": [
            "0.867741935483871\n"
          ]
        }
      ]
    },
    {
      "cell_type": "code",
      "source": [
        "## Fit the K-nearest neighbors model again with n_neighbors=3 but this time use distance for the weights. Calculate the accuracy using the function you created above.\n",
        "knn = KNeighborsClassifier(n_neighbors=5, p=1)\n",
        "\n",
        "knn = knn.fit(X_train, y_train)\n",
        "\n",
        "y_test_pred = knn.predict(X_test)\n",
        "\n",
        "print(accuracy(y_test, y_test_pred))"
      ],
      "metadata": {
        "id": "KbQIQv9ExUem",
        "outputId": "c88dd536-2db1-4c6e-81ad-f88a06307751",
        "colab": {
          "base_uri": "https://localhost:8080/"
        }
      },
      "id": "KbQIQv9ExUem",
      "execution_count": 18,
      "outputs": [
        {
          "output_type": "stream",
          "name": "stdout",
          "text": [
            "0.8387096774193549\n"
          ]
        }
      ]
    },
    {
      "cell_type": "code",
      "source": [
        "## Fit another K-nearest neighbors model. This time use uniform weights but set the power parameter for the Minkowski distance metric to be 1 (p=1) i.e. Manhattan Distance.\n",
        "knn_l1 = KNeighborsClassifier(n_neighbors=3, weights='distance')\n",
        "\n",
        "knn_l1 = knn_l1.fit(X_train, y_train)\n",
        "\n",
        "y_test_pred = knn_l1.predict(X_test)\n",
        "\n",
        "print(accuracy(y_test, y_test_pred))"
      ],
      "metadata": {
        "id": "g163l5lXxc1s",
        "outputId": "0fb12937-8f01-4abf-f19b-e9b879a35725",
        "colab": {
          "base_uri": "https://localhost:8080/"
        }
      },
      "id": "g163l5lXxc1s",
      "execution_count": 19,
      "outputs": [
        {
          "output_type": "stream",
          "name": "stdout",
          "text": [
            "0.864516129032258\n"
          ]
        }
      ]
    },
    {
      "cell_type": "code",
      "source": [
        "# Pandas boxplot\n",
        "\n",
        "data.boxplot(by='mode');"
      ],
      "metadata": {
        "id": "--Mi4WkQtS1J",
        "outputId": "2326c55e-9c78-4c84-fe1f-caae966cc239",
        "colab": {
          "base_uri": "https://localhost:8080/",
          "height": 759
        }
      },
      "id": "--Mi4WkQtS1J",
      "execution_count": 20,
      "outputs": [
        {
          "output_type": "stream",
          "name": "stderr",
          "text": [
            "/usr/local/lib/python3.7/dist-packages/matplotlib/cbook/__init__.py:1376: VisibleDeprecationWarning: Creating an ndarray from ragged nested sequences (which is a list-or-tuple of lists-or-tuples-or ndarrays with different lengths or shapes) is deprecated. If you meant to do this, you must specify 'dtype=object' when creating the ndarray.\n",
            "  X = np.atleast_1d(X.T if isinstance(X, np.ndarray) else np.asarray(X))\n",
            "/usr/local/lib/python3.7/dist-packages/matplotlib/cbook/__init__.py:1376: VisibleDeprecationWarning: Creating an ndarray from ragged nested sequences (which is a list-or-tuple of lists-or-tuples-or ndarrays with different lengths or shapes) is deprecated. If you meant to do this, you must specify 'dtype=object' when creating the ndarray.\n",
            "  X = np.atleast_1d(X.T if isinstance(X, np.ndarray) else np.asarray(X))\n",
            "/usr/local/lib/python3.7/dist-packages/matplotlib/cbook/__init__.py:1376: VisibleDeprecationWarning: Creating an ndarray from ragged nested sequences (which is a list-or-tuple of lists-or-tuples-or ndarrays with different lengths or shapes) is deprecated. If you meant to do this, you must specify 'dtype=object' when creating the ndarray.\n",
            "  X = np.atleast_1d(X.T if isinstance(X, np.ndarray) else np.asarray(X))\n",
            "/usr/local/lib/python3.7/dist-packages/matplotlib/cbook/__init__.py:1376: VisibleDeprecationWarning: Creating an ndarray from ragged nested sequences (which is a list-or-tuple of lists-or-tuples-or ndarrays with different lengths or shapes) is deprecated. If you meant to do this, you must specify 'dtype=object' when creating the ndarray.\n",
            "  X = np.atleast_1d(X.T if isinstance(X, np.ndarray) else np.asarray(X))\n",
            "/usr/local/lib/python3.7/dist-packages/matplotlib/cbook/__init__.py:1376: VisibleDeprecationWarning: Creating an ndarray from ragged nested sequences (which is a list-or-tuple of lists-or-tuples-or ndarrays with different lengths or shapes) is deprecated. If you meant to do this, you must specify 'dtype=object' when creating the ndarray.\n",
            "  X = np.atleast_1d(X.T if isinstance(X, np.ndarray) else np.asarray(X))\n",
            "/usr/local/lib/python3.7/dist-packages/matplotlib/cbook/__init__.py:1376: VisibleDeprecationWarning: Creating an ndarray from ragged nested sequences (which is a list-or-tuple of lists-or-tuples-or ndarrays with different lengths or shapes) is deprecated. If you meant to do this, you must specify 'dtype=object' when creating the ndarray.\n",
            "  X = np.atleast_1d(X.T if isinstance(X, np.ndarray) else np.asarray(X))\n",
            "/usr/local/lib/python3.7/dist-packages/matplotlib/cbook/__init__.py:1376: VisibleDeprecationWarning: Creating an ndarray from ragged nested sequences (which is a list-or-tuple of lists-or-tuples-or ndarrays with different lengths or shapes) is deprecated. If you meant to do this, you must specify 'dtype=object' when creating the ndarray.\n",
            "  X = np.atleast_1d(X.T if isinstance(X, np.ndarray) else np.asarray(X))\n",
            "/usr/local/lib/python3.7/dist-packages/matplotlib/cbook/__init__.py:1376: VisibleDeprecationWarning: Creating an ndarray from ragged nested sequences (which is a list-or-tuple of lists-or-tuples-or ndarrays with different lengths or shapes) is deprecated. If you meant to do this, you must specify 'dtype=object' when creating the ndarray.\n",
            "  X = np.atleast_1d(X.T if isinstance(X, np.ndarray) else np.asarray(X))\n",
            "/usr/local/lib/python3.7/dist-packages/matplotlib/cbook/__init__.py:1376: VisibleDeprecationWarning: Creating an ndarray from ragged nested sequences (which is a list-or-tuple of lists-or-tuples-or ndarrays with different lengths or shapes) is deprecated. If you meant to do this, you must specify 'dtype=object' when creating the ndarray.\n",
            "  X = np.atleast_1d(X.T if isinstance(X, np.ndarray) else np.asarray(X))\n",
            "/usr/local/lib/python3.7/dist-packages/matplotlib/cbook/__init__.py:1376: VisibleDeprecationWarning: Creating an ndarray from ragged nested sequences (which is a list-or-tuple of lists-or-tuples-or ndarrays with different lengths or shapes) is deprecated. If you meant to do this, you must specify 'dtype=object' when creating the ndarray.\n",
            "  X = np.atleast_1d(X.T if isinstance(X, np.ndarray) else np.asarray(X))\n",
            "/usr/local/lib/python3.7/dist-packages/matplotlib/cbook/__init__.py:1376: VisibleDeprecationWarning: Creating an ndarray from ragged nested sequences (which is a list-or-tuple of lists-or-tuples-or ndarrays with different lengths or shapes) is deprecated. If you meant to do this, you must specify 'dtype=object' when creating the ndarray.\n",
            "  X = np.atleast_1d(X.T if isinstance(X, np.ndarray) else np.asarray(X))\n",
            "/usr/local/lib/python3.7/dist-packages/matplotlib/cbook/__init__.py:1376: VisibleDeprecationWarning: Creating an ndarray from ragged nested sequences (which is a list-or-tuple of lists-or-tuples-or ndarrays with different lengths or shapes) is deprecated. If you meant to do this, you must specify 'dtype=object' when creating the ndarray.\n",
            "  X = np.atleast_1d(X.T if isinstance(X, np.ndarray) else np.asarray(X))\n"
          ]
        },
        {
          "output_type": "display_data",
          "data": {
            "text/plain": [
              "<Figure size 432x288 with 12 Axes>"
            ],
            "image/png": "[encoded data removed]"
          },
          "metadata": {
            "needs_background": "light"
          }
        }
      ]
    },
    {
      "cell_type": "code",
      "source": [
        "#sns.set_context('mode')\n",
        "#sns.pairplot(data, hue='species');"
      ],
      "metadata": {
        "id": "7-Ee7A74txsf"
      },
      "id": "7-Ee7A74txsf",
      "execution_count": 21,
      "outputs": []
    },
    {
      "cell_type": "markdown",
      "id": "ef737a52",
      "metadata": {
        "id": "ef737a52"
      },
      "source": [
        "\n",
        "***"
      ]
    },
    {
      "cell_type": "markdown",
      "id": "c9654ee4",
      "metadata": {
        "id": "c9654ee4"
      },
      "source": [
        "## Logistic Regression "
      ]
    },
    {
      "cell_type": "code",
      "source": [
        "#data = pd.read_csv('CleandDataV20210515.csv', sep=',')\n",
        "\n",
        "#data.head()"
      ],
      "metadata": {
        "id": "uwZHeDn1Dwsd"
      },
      "id": "uwZHeDn1Dwsd",
      "execution_count": 22,
      "outputs": []
    },
    {
      "cell_type": "code",
      "source": [
        "#data.info()"
      ],
      "metadata": {
        "id": "3ca4LyjURVD6"
      },
      "id": "3ca4LyjURVD6",
      "execution_count": 23,
      "outputs": []
    },
    {
      "cell_type": "code",
      "source": [
        "#data.iloc[:, :-1].min().value_counts()\n",
        "#data.iloc[:, :-1].max().value_counts()"
      ],
      "metadata": {
        "id": "sixqy1oLZlqm"
      },
      "id": "sixqy1oLZlqm",
      "execution_count": 24,
      "outputs": []
    },
    {
      "cell_type": "code",
      "source": [
        "#from sklearn.preprocessing import LabelEncoder\n",
        "\n",
        "#le = LabelEncoder()\n",
        "#data['mode'] = le.fit_transform(data['mode'])\n",
        "#data['mode'].sample(5)\n"
      ],
      "metadata": {
        "id": "NQzgay7zDPJo"
      },
      "id": "NQzgay7zDPJo",
      "execution_count": 25,
      "outputs": []
    },
    {
      "cell_type": "code",
      "source": [
        "print(data['mode'])"
      ],
      "metadata": {
        "id": "sBEIMuKjQ08T",
        "outputId": "4a5a5e50-5b0a-4951-eb5f-f3f99a57c1da",
        "colab": {
          "base_uri": "https://localhost:8080/"
        }
      },
      "id": "sBEIMuKjQ08T",
      "execution_count": 26,
      "outputs": [
        {
          "output_type": "stream",
          "name": "stdout",
          "text": [
            "0         DailyWash\n",
            "1         DailyWash\n",
            "2         DailyWash\n",
            "3         DailyWash\n",
            "4         DailyWash\n",
            "           ...     \n",
            "1026    BeddingSpin\n",
            "1027    BeddingSpin\n",
            "1028    BeddingSpin\n",
            "1029    BeddingSpin\n",
            "1030    BeddingSpin\n",
            "Name: mode, Length: 1031, dtype: object\n"
          ]
        }
      ]
    },
    {
      "cell_type": "code",
      "source": [
        "data.dtypes"
      ],
      "metadata": {
        "id": "ZQvjJwNG8fPl",
        "outputId": "dc6a2819-035c-49c3-9d39-c5c135e05816",
        "colab": {
          "base_uri": "https://localhost:8080/"
        }
      },
      "id": "ZQvjJwNG8fPl",
      "execution_count": 27,
      "outputs": [
        {
          "output_type": "execute_result",
          "data": {
            "text/plain": [
              "Unnamed: 0      int64\n",
              "mode           object\n",
              "index_col       int64\n",
              "avC           float64\n",
              "avP           float64\n",
              "sdC           float64\n",
              "sdP           float64\n",
              "avR           float64\n",
              "maxC          float64\n",
              "maxP            int64\n",
              "stdCR         float64\n",
              "stdCP         float64\n",
              "AvRR          float64\n",
              "dtype: object"
            ]
          },
          "metadata": {},
          "execution_count": 27
        }
      ]
    },
    {
      "cell_type": "code",
      "source": [
        "## Split the data into train and test data sets and compare the ratio of classes in both the train and test splits.\n",
        "##from sklearn.model_selection import StratifiedShuffleSplit\n",
        "\n",
        "##feature_cols = data.columns[:-1]\n",
        "\n",
        "# Get the split indexes\n",
        "##strat_shuf_split = StratifiedShuffleSplit(n_splits=1, \n",
        "##                                          test_size=0.3, \n",
        "##                                          random_state=1)\n",
        "\n",
        "# get the locations\n",
        "#X = data.iloc[:, :-1]\n",
        "#y = data.iloc[:, -1]\n",
        " \n",
        "# split the dataset\n",
        "#X_train, X_test, y_train, y_test = train_test_split(\n",
        "#    X, y, test_size=0.3, random_state=0)\n",
        "\n",
        "#strat_shuf_split(X_train, y_train)\n",
        "\n",
        "##train_idx, test_idx = next(strat_shuf_split.split(data[feature_cols], data.mode))\n",
        "\n",
        "# Create the dataframes\n",
        "##X_train = data.loc[train_idx, feature_cols]\n",
        "##y_train = data.loc[train_idx, 'mode']\n",
        "\n",
        "##X_test  = data.loc[test_idx, feature_cols]\n",
        "##y_test  = data.loc[test_idx, 'mode']\n",
        "\n",
        "##X_train = data.loc[train_idx, feature_cols]\n",
        "##y_train = data.loc[train_idx, 'mode']\n",
        "\n",
        "##X_test  = data.loc[test_idx, feature_cols]\n",
        "##y_test  = data.loc[test_idx, 'mode']"
      ],
      "metadata": {
        "id": "BKbcOQTcPfzN"
      },
      "id": "BKbcOQTcPfzN",
      "execution_count": 28,
      "outputs": []
    },
    {
      "cell_type": "code",
      "source": [
        "##y_train.value_counts(normalize=True)"
      ],
      "metadata": {
        "id": "6Fdjpf2iQrwB"
      },
      "id": "6Fdjpf2iQrwB",
      "execution_count": 29,
      "outputs": []
    },
    {
      "cell_type": "code",
      "source": [
        "##y_test.value_counts(normalize=True)"
      ],
      "metadata": {
        "id": "6Ri04ZmYQvGl"
      },
      "id": "6Ri04ZmYQvGl",
      "execution_count": 30,
      "outputs": []
    },
    {
      "cell_type": "code",
      "source": [
        "##X_train.value_counts(normalize=True)"
      ],
      "metadata": {
        "id": "InUJgflXh_yq"
      },
      "id": "InUJgflXh_yq",
      "execution_count": 31,
      "outputs": []
    },
    {
      "cell_type": "code",
      "source": [
        "# Mute the sklearn warning\n",
        "import warnings\n",
        "warnings.filterwarnings('ignore', module='sklearn')\n",
        "\n",
        "from sklearn.linear_model import LogisticRegression\n",
        "\n",
        "\n",
        "# Standard logistic regression\n",
        "%time lr = LogisticRegression().fit(X_train, y_train)"
      ],
      "metadata": {
        "id": "ZXUqS7MLfvzn",
        "outputId": "6159c741-8e97-4e59-9c59-5245e8ea502b",
        "colab": {
          "base_uri": "https://localhost:8080/"
        }
      },
      "id": "ZXUqS7MLfvzn",
      "execution_count": 32,
      "outputs": [
        {
          "output_type": "stream",
          "name": "stdout",
          "text": [
            "CPU times: user 72.1 ms, sys: 0 ns, total: 72.1 ms\n",
            "Wall time: 72.7 ms\n"
          ]
        }
      ]
    },
    {
      "cell_type": "code",
      "source": [
        "from sklearn.linear_model import LogisticRegressionCV\n",
        "\n",
        "# L1 regularized logistic regression\n",
        "%time lr_l1 = LogisticRegressionCV(Cs=10, cv=4, penalty='l1', solver='liblinear').fit(X_train, y_train)"
      ],
      "metadata": {
        "id": "9BmbOzkggfXH",
        "outputId": "dfc3bcb5-b66e-4d43-f2f1-2b10b058c286",
        "colab": {
          "base_uri": "https://localhost:8080/"
        }
      },
      "id": "9BmbOzkggfXH",
      "execution_count": 33,
      "outputs": [
        {
          "output_type": "stream",
          "name": "stdout",
          "text": [
            "CPU times: user 33.5 s, sys: 40.2 ms, total: 33.6 s\n",
            "Wall time: 37.3 s\n"
          ]
        }
      ]
    },
    {
      "cell_type": "code",
      "source": [
        "# L2 regularized logistic regression\n",
        "%time lr_l2 = LogisticRegressionCV(Cs=10, cv=4, penalty='l2').fit(X_train, y_train)"
      ],
      "metadata": {
        "id": "aLnVyo0UgkEL",
        "outputId": "bdee8a96-b686-4d09-ba68-d6b02ea42ee5",
        "colab": {
          "base_uri": "https://localhost:8080/"
        }
      },
      "id": "aLnVyo0UgkEL",
      "execution_count": 34,
      "outputs": [
        {
          "output_type": "stream",
          "name": "stdout",
          "text": [
            "CPU times: user 1.31 s, sys: 5.01 ms, total: 1.32 s\n",
            "Wall time: 1.31 s\n"
          ]
        }
      ]
    },
    {
      "cell_type": "code",
      "source": [
        "# Predict the class and the probability for each\n",
        "y_pred = list()\n",
        "y_prob = list()\n",
        "\n",
        "##coeff_labels = ['lr', 'l1', 'l2']\n",
        "##coeff_models = [lr, lr_l1, lr_l2]\n",
        "\n",
        "coeff_labels = ['lr','lr_l1','knn','knn_l1']\n",
        "coeff_models = [lr, lr_l1, knn, knn_l1]\n",
        "\n",
        "for lab,mod in zip(coeff_labels, coeff_models):\n",
        "    y_pred.append(pd.Series(mod.predict(X_test), name=lab))\n",
        "    y_prob.append(pd.Series(mod.predict_proba(X_test).max(axis=1), name=lab))\n",
        "    \n",
        "y_pred = pd.concat(y_pred, axis=1)\n",
        "y_prob = pd.concat(y_prob, axis=1)"
      ],
      "metadata": {
        "id": "ouf00vJhgzQJ"
      },
      "id": "ouf00vJhgzQJ",
      "execution_count": 46,
      "outputs": []
    },
    {
      "cell_type": "code",
      "execution_count": 36,
      "id": "5fac89f8",
      "metadata": {
        "id": "5fac89f8",
        "outputId": "e8c0fef6-08e3-489a-a8ce-82643b2bee8f",
        "colab": {
          "base_uri": "https://localhost:8080/"
        }
      },
      "outputs": [
        {
          "output_type": "execute_result",
          "data": {
            "text/plain": [
              "{'memory': None,\n",
              " 'steps': [('scale', StandardScaler()),\n",
              "  ('selection', SelectPercentile(percentile=50,\n",
              "                    score_func=<function f_regression at 0x7f6073e4ef80>)),\n",
              "  ('regression', LinearRegression())],\n",
              " 'verbose': False,\n",
              " 'scale': StandardScaler(),\n",
              " 'selection': SelectPercentile(percentile=50,\n",
              "                  score_func=<function f_regression at 0x7f6073e4ef80>),\n",
              " 'regression': LinearRegression(),\n",
              " 'scale__copy': True,\n",
              " 'scale__with_mean': True,\n",
              " 'scale__with_std': True,\n",
              " 'selection__percentile': 50,\n",
              " 'selection__score_func': <function sklearn.feature_selection._univariate_selection.f_regression(X, y, *, center=True)>,\n",
              " 'regression__copy_X': True,\n",
              " 'regression__fit_intercept': True,\n",
              " 'regression__n_jobs': None,\n",
              " 'regression__normalize': 'deprecated',\n",
              " 'regression__positive': False}"
            ]
          },
          "metadata": {},
          "execution_count": 36
        }
      ],
      "source": [
        "from sklearn import pipeline, feature_selection, linear_model, preprocessing, metrics, model_selection\n",
        "\n",
        "first_pipe = pipeline.Pipeline([\n",
        "    (\"scale\", preprocessing.StandardScaler()),\n",
        "    (\"selection\", feature_selection.SelectPercentile(feature_selection.f_regression, percentile=50)),\n",
        "    (\"regression\", linear_model.LinearRegression()),\n",
        "])\n",
        "\n",
        "second_pipe = pipeline.Pipeline([\n",
        "    (\"scale\", preprocessing.StandardScaler()),\n",
        "    (\"selection\", feature_selection.SelectPercentile(feature_selection.f_regression, percentile=50)),\n",
        "    (\"regression\", linear_model.Lasso(alpha=40)),\n",
        "])\n",
        "\n",
        "first_pipe.get_params()"
      ]
    },
    {
      "cell_type": "code",
      "execution_count": 36,
      "id": "0949c8ef",
      "metadata": {
        "id": "0949c8ef"
      },
      "outputs": [],
      "source": []
    },
    {
      "cell_type": "code",
      "execution_count": 36,
      "id": "0a8a204d",
      "metadata": {
        "id": "0a8a204d"
      },
      "outputs": [],
      "source": []
    },
    {
      "cell_type": "code",
      "source": [],
      "metadata": {
        "id": "MHq1r_wBjs7k"
      },
      "id": "MHq1r_wBjs7k",
      "execution_count": 36,
      "outputs": []
    },
    {
      "cell_type": "markdown",
      "source": [
        "Calculate the following metrics for each model using test dataset\n",
        "---\n",
        "* Accuracy\n",
        "* Precision\n",
        "* Recall\n",
        "* F1 score"
      ],
      "metadata": {
        "id": "2RBdWxGCIx2i"
      },
      "id": "2RBdWxGCIx2i"
    },
    {
      "cell_type": "code",
      "source": [
        "from sklearn.metrics import precision_recall_fscore_support as score\n",
        "from sklearn.metrics import confusion_matrix, accuracy_score, roc_auc_score\n",
        "from sklearn.preprocessing import label_binarize\n",
        "\n",
        "metrics = list()\n",
        "cm = dict()\n",
        "\n",
        "for lab in coeff_labels:\n",
        "\n",
        "    # Precision, recall, f-score from the multi-class support function\n",
        "    precision, recall, fscore, _ = score(y_test, y_pred[lab], average='weighted')\n",
        "    \n",
        "    # The usual way to calculate accuracy\n",
        "    accuracy = accuracy_score(y_test, y_pred[lab])\n",
        "    \n",
        "    # ROC-AUC scores can be calculated by binarizing the data\n",
        "##    auc = roc_auc_score(label_binarize(y_test, classes=[0,1,2,3,4,5]),\n",
        "##              label_binarize(y_pred[lab], classes=[0,1,2,3,4,5]), \n",
        "##              average='weighted')\n",
        "    \n",
        "    # Last, the confusion matrix\n",
        "    cm[lab] = confusion_matrix(y_test, y_pred[lab])\n",
        "    \n",
        "    metrics.append(pd.Series({'precision':precision, 'recall':recall, \n",
        "                              'fscore':fscore, 'accuracy':accuracy},\n",
        "                              #'auc':auc}, \n",
        "                             name=lab))\n",
        "\n",
        "metrics = pd.concat(metrics, axis=1)\n",
        "\n",
        "metrics"
      ],
      "metadata": {
        "id": "xePrYe79I1PU",
        "outputId": "28343447-9fbd-42a8-8ed3-dd7d7c84c8f2",
        "colab": {
          "base_uri": "https://localhost:8080/",
          "height": 175
        }
      },
      "id": "xePrYe79I1PU",
      "execution_count": 47,
      "outputs": [
        {
          "output_type": "execute_result",
          "data": {
            "text/plain": [
              "                 lr     lr_l1       knn    knn_l1\n",
              "precision  0.689775  0.790524  0.844561  0.869322\n",
              "recall     0.716129  0.783871  0.838710  0.864516\n",
              "fscore     0.666156  0.782508  0.839577  0.865811\n",
              "accuracy   0.716129  0.783871  0.838710  0.864516"
            ],
            "text/html": [
              "\n",
              "  <div id=\"df-7f51b819-4c63-4780-be71-4c3483c80066\">\n",
              "    <div class=\"colab-df-container\">\n",
              "      <div>\n",
              "<style scoped>\n",
              "    .dataframe tbody tr th:only-of-type {\n",
              "        vertical-align: middle;\n",
              "    }\n",
              "\n",
              "    .dataframe tbody tr th {\n",
              "        vertical-align: top;\n",
              "    }\n",
              "\n",
              "    .dataframe thead th {\n",
              "        text-align: right;\n",
              "    }\n",
              "</style>\n",
              "<table border=\"1\" class=\"dataframe\">\n",
              "  <thead>\n",
              "    <tr style=\"text-align: right;\">\n",
              "      <th></th>\n",
              "      <th>lr</th>\n",
              "      <th>lr_l1</th>\n",
              "      <th>knn</th>\n",
              "      <th>knn_l1</th>\n",
              "    </tr>\n",
              "  </thead>\n",
              "  <tbody>\n",
              "    <tr>\n",
              "      <th>precision</th>\n",
              "      <td>0.689775</td>\n",
              "      <td>0.790524</td>\n",
              "      <td>0.844561</td>\n",
              "      <td>0.869322</td>\n",
              "    </tr>\n",
              "    <tr>\n",
              "      <th>recall</th>\n",
              "      <td>0.716129</td>\n",
              "      <td>0.783871</td>\n",
              "      <td>0.838710</td>\n",
              "      <td>0.864516</td>\n",
              "    </tr>\n",
              "    <tr>\n",
              "      <th>fscore</th>\n",
              "      <td>0.666156</td>\n",
              "      <td>0.782508</td>\n",
              "      <td>0.839577</td>\n",
              "      <td>0.865811</td>\n",
              "    </tr>\n",
              "    <tr>\n",
              "      <th>accuracy</th>\n",
              "      <td>0.716129</td>\n",
              "      <td>0.783871</td>\n",
              "      <td>0.838710</td>\n",
              "      <td>0.864516</td>\n",
              "    </tr>\n",
              "  </tbody>\n",
              "</table>\n",
              "</div>\n",
              "      <button class=\"colab-df-convert\" onclick=\"convertToInteractive('df-7f51b819-4c63-4780-be71-4c3483c80066')\"\n",
              "              title=\"Convert this dataframe to an interactive table.\"\n",
              "              style=\"display:none;\">\n",
              "        \n",
              "  <svg xmlns=\"http://www.w3.org/2000/svg\" height=\"24px\"viewBox=\"0 0 24 24\"\n",
              "       width=\"24px\">\n",
              "    <path d=\"M0 0h24v24H0V0z\" fill=\"none\"/>\n",
              "    <path d=\"M18.56 5.44l.94 2.06.94-2.06 2.06-.94-2.06-.94-.94-2.06-.94 2.06-2.06.94zm-11 1L8.5 8.5l.94-2.06 2.06-.94-2.06-.94L8.5 2.5l-.94 2.06-2.06.94zm10 10l.94 2.06.94-2.06 2.06-.94-2.06-.94-.94-2.06-.94 2.06-2.06.94z\"/><path d=\"M17.41 7.96l-1.37-1.37c-.4-.4-.92-.59-1.43-.59-.52 0-1.04.2-1.43.59L10.3 9.45l-7.72 7.72c-.78.78-.78 2.05 0 2.83L4 21.41c.39.39.9.59 1.41.59.51 0 1.02-.2 1.41-.59l7.78-7.78 2.81-2.81c.8-.78.8-2.07 0-2.86zM5.41 20L4 18.59l7.72-7.72 1.47 1.35L5.41 20z\"/>\n",
              "  </svg>\n",
              "      </button>\n",
              "      \n",
              "  <style>\n",
              "    .colab-df-container {\n",
              "      display:flex;\n",
              "      flex-wrap:wrap;\n",
              "      gap: 12px;\n",
              "    }\n",
              "\n",
              "    .colab-df-convert {\n",
              "      background-color: #E8F0FE;\n",
              "      border: none;\n",
              "      border-radius: 50%;\n",
              "      cursor: pointer;\n",
              "      display: none;\n",
              "      fill: #1967D2;\n",
              "      height: 32px;\n",
              "      padding: 0 0 0 0;\n",
              "      width: 32px;\n",
              "    }\n",
              "\n",
              "    .colab-df-convert:hover {\n",
              "      background-color: #E2EBFA;\n",
              "      box-shadow: 0px 1px 2px rgba(60, 64, 67, 0.3), 0px 1px 3px 1px rgba(60, 64, 67, 0.15);\n",
              "      fill: #174EA6;\n",
              "    }\n",
              "\n",
              "    [theme=dark] .colab-df-convert {\n",
              "      background-color: #3B4455;\n",
              "      fill: #D2E3FC;\n",
              "    }\n",
              "\n",
              "    [theme=dark] .colab-df-convert:hover {\n",
              "      background-color: #434B5C;\n",
              "      box-shadow: 0px 1px 3px 1px rgba(0, 0, 0, 0.15);\n",
              "      filter: drop-shadow(0px 1px 2px rgba(0, 0, 0, 0.3));\n",
              "      fill: #FFFFFF;\n",
              "    }\n",
              "  </style>\n",
              "\n",
              "      <script>\n",
              "        const buttonEl =\n",
              "          document.querySelector('#df-7f51b819-4c63-4780-be71-4c3483c80066 button.colab-df-convert');\n",
              "        buttonEl.style.display =\n",
              "          google.colab.kernel.accessAllowed ? 'block' : 'none';\n",
              "\n",
              "        async function convertToInteractive(key) {\n",
              "          const element = document.querySelector('#df-7f51b819-4c63-4780-be71-4c3483c80066');\n",
              "          const dataTable =\n",
              "            await google.colab.kernel.invokeFunction('convertToInteractive',\n",
              "                                                     [key], {});\n",
              "          if (!dataTable) return;\n",
              "\n",
              "          const docLinkHtml = 'Like what you see? Visit the ' +\n",
              "            '<a target=\"_blank\" href=https://colab.research.google.com/notebooks/data_table.ipynb>data table notebook</a>'\n",
              "            + ' to learn more about interactive tables.';\n",
              "          element.innerHTML = '';\n",
              "          dataTable['output_type'] = 'display_data';\n",
              "          await google.colab.output.renderOutput(dataTable, element);\n",
              "          const docLink = document.createElement('div');\n",
              "          docLink.innerHTML = docLinkHtml;\n",
              "          element.appendChild(docLink);\n",
              "        }\n",
              "      </script>\n",
              "    </div>\n",
              "  </div>\n",
              "  "
            ]
          },
          "metadata": {},
          "execution_count": 47
        }
      ]
    },
    {
      "cell_type": "markdown",
      "source": [
        "Generating Confusion Matrix\n",
        "---\n",
        "Display or plot the confusion matrix for each model.\n"
      ],
      "metadata": {
        "id": "hFZ3qo3ej2aJ"
      },
      "id": "hFZ3qo3ej2aJ"
    },
    {
      "cell_type": "code",
      "source": [
        "import matplotlib.pyplot as plt\n",
        "import seaborn as sns\n",
        "%matplotlib inline"
      ],
      "metadata": {
        "id": "mG644YYYj_mG"
      },
      "id": "mG644YYYj_mG",
      "execution_count": 48,
      "outputs": []
    },
    {
      "cell_type": "code",
      "source": [
        "fig, axList = plt.subplots(nrows=2, ncols=3)\n",
        "axList = axList.flatten()\n",
        "fig.set_size_inches(18, 10)\n",
        "\n",
        "axList[-1].axis('off')\n",
        "\n",
        "for ax,lab in zip(axList[:-1], coeff_labels):\n",
        "    sns.heatmap(cm[lab], ax=ax, annot=True, fmt='d');\n",
        "    ax.set(title=lab);\n",
        "    \n",
        "plt.tight_layout()"
      ],
      "metadata": {
        "id": "4ZNdtcx2kBqg",
        "outputId": "feeceb91-ba6a-4bb0-e54c-7dc3d905d591",
        "colab": {
          "base_uri": "https://localhost:8080/",
          "height": 729
        }
      },
      "id": "4ZNdtcx2kBqg",
      "execution_count": 56,
      "outputs": [
        {
          "output_type": "display_data",
          "data": {
            "text/plain": [
              "<Figure size 1296x720 with 10 Axes>"
            ],
            "image/png": "[encoded data removed]"
          },
          "metadata": {
            "needs_background": "light"
          }
        }
      ]
    },
    {
      "cell_type": "markdown",
      "source": [
        "Learning Curve\n",
        "---\n",
        "To know if we are overfit or underfit, we need to plot a learning curve. A learning curve plots performance (either error or score) against some measure of complexity."
      ],
      "metadata": {
        "id": "_jUgMhPGkS9v"
      },
      "id": "_jUgMhPGkS9v"
    },
    {
      "cell_type": "markdown",
      "id": "d563ff97",
      "metadata": {
        "id": "d563ff97"
      },
      "source": [
        "\n",
        "\n",
        "***"
      ]
    },
    {
      "cell_type": "code",
      "source": [
        "from sklearn import pipeline, feature_selection, linear_model, preprocessing, metrics, model_selection\n",
        "\n",
        "first_pipe = pipeline.Pipeline([\n",
        "    (\"scale\", preprocessing.StandardScaler()),\n",
        "    (\"selection\", feature_selection.SelectPercentile(feature_selection.f_regression, percentile=50)),\n",
        "    (\"regression\", linear_model.LinearRegression()),\n",
        "])\n",
        "\n",
        "second_pipe = pipeline.Pipeline([\n",
        "    (\"scale\", preprocessing.StandardScaler()),\n",
        "    (\"selection\", feature_selection.SelectPercentile(feature_selection.f_regression, percentile=50)),\n",
        "    (\"regression\", linear_model.Lasso(alpha=40)),\n",
        "])\n",
        "\n",
        "first_pipe.get_params()"
      ],
      "metadata": {
        "id": "-2HU20gTlfzg",
        "outputId": "f9f0ece3-653c-4de3-9526-531b0711c402",
        "colab": {
          "base_uri": "https://localhost:8080/"
        }
      },
      "id": "-2HU20gTlfzg",
      "execution_count": 40,
      "outputs": [
        {
          "output_type": "execute_result",
          "data": {
            "text/plain": [
              "{'memory': None,\n",
              " 'steps': [('scale', StandardScaler()),\n",
              "  ('selection', SelectPercentile(percentile=50,\n",
              "                    score_func=<function f_regression at 0x7f6073e4ef80>)),\n",
              "  ('regression', LinearRegression())],\n",
              " 'verbose': False,\n",
              " 'scale': StandardScaler(),\n",
              " 'selection': SelectPercentile(percentile=50,\n",
              "                  score_func=<function f_regression at 0x7f6073e4ef80>),\n",
              " 'regression': LinearRegression(),\n",
              " 'scale__copy': True,\n",
              " 'scale__with_mean': True,\n",
              " 'scale__with_std': True,\n",
              " 'selection__percentile': 50,\n",
              " 'selection__score_func': <function sklearn.feature_selection._univariate_selection.f_regression(X, y, *, center=True)>,\n",
              " 'regression__copy_X': True,\n",
              " 'regression__fit_intercept': True,\n",
              " 'regression__n_jobs': None,\n",
              " 'regression__normalize': 'deprecated',\n",
              " 'regression__positive': False}"
            ]
          },
          "metadata": {},
          "execution_count": 40
        }
      ]
    },
    {
      "cell_type": "code",
      "source": [
        "p_list = np.linspace(1, 100, 25, dtype='int')\n",
        "train_score = []\n",
        "test_score = []\n",
        "\n",
        "for i, p in enumerate(p_list):\n",
        "\n",
        "    first_pipe.set_params(selection__percentile=p)\n",
        "    #second_pipe.set_params(selection__percentile=p)\n",
        "\n",
        "    score = model_selection.cross_validate(\n",
        "        first_pipe,\n",
        "        X_train,\n",
        "        y_train,\n",
        "        scoring=\"r2\",\n",
        "        cv=5,\n",
        "        return_train_score=True)\n",
        "\n",
        "    train_score.append(score['train_score'].mean())\n",
        "    test_score.append(score['test_score'].mean())\n",
        "print(max(test_score))"
      ],
      "metadata": {
        "id": "R3_1NDyIlrFa",
        "outputId": "bee14c6e-b306-47dc-ee7a-b518183d69c7",
        "colab": {
          "base_uri": "https://localhost:8080/"
        }
      },
      "id": "R3_1NDyIlrFa",
      "execution_count": 41,
      "outputs": [
        {
          "output_type": "stream",
          "name": "stdout",
          "text": [
            "0.8222227067987884\n"
          ]
        }
      ]
    },
    {
      "cell_type": "code",
      "source": [
        "%pylab inline\n",
        "\n",
        "\n",
        "plt.plot(p_list, train_score, label='train')\n",
        "plt.plot(p_list, test_score, label='test')\n",
        "plt.ylabel(\"$r^2$\")\n",
        "plt.xlabel(\"percent of features\")\n",
        "plt.legend();\n",
        "plt.show()"
      ],
      "metadata": {
        "id": "LCjEOBxCluxG",
        "outputId": "7f72b5e9-5727-489d-d528-384b775e08a5",
        "colab": {
          "base_uri": "https://localhost:8080/",
          "height": 352
        }
      },
      "id": "LCjEOBxCluxG",
      "execution_count": 42,
      "outputs": [
        {
          "output_type": "stream",
          "name": "stdout",
          "text": [
            "Populating the interactive namespace from numpy and matplotlib\n"
          ]
        },
        {
          "output_type": "stream",
          "name": "stderr",
          "text": [
            "/usr/local/lib/python3.7/dist-packages/IPython/core/magics/pylab.py:160: UserWarning: pylab import has clobbered these variables: ['cm', 'mod']\n",
            "`%matplotlib` prevents importing * from pylab and numpy\n",
            "  \"\\n`%matplotlib` prevents importing * from pylab and numpy\"\n"
          ]
        },
        {
          "output_type": "display_data",
          "data": {
            "text/plain": [
              "<Figure size 432x288 with 1 Axes>"
            ],
            "image/png": "[encoded data removed]"
          },
          "metadata": {
            "needs_background": "light"
          }
        }
      ]
    },
    {
      "cell_type": "code",
      "source": [
        "# evaluate a knn model using k-fold cross-validation\n",
        "from numpy import mean\n",
        "from numpy import std\n",
        "from sklearn.datasets import make_classification\n",
        "from sklearn.model_selection import KFold\n",
        "from sklearn.model_selection import cross_val_score\n",
        "from sklearn.linear_model import LogisticRegression\n",
        "# create dataset\n",
        "#X_train, y_train = make_classification(n_samples=100, n_features=20, n_informative=15, n_redundant=5, random_state=1)\n",
        "# prepare the cross-validation procedure\n",
        "cv = KFold(n_splits=10, random_state=1, shuffle=True)\n",
        "# create model\n",
        "model = knn\n",
        "# evaluate model\n",
        "scores = cross_val_score(model, X_train, y_train, scoring='accuracy', cv=cv, n_jobs=-1)\n",
        "# report performance\n",
        "print('Accuracy: %.3f (%.3f)' % (mean(scores), std(scores)))"
      ],
      "metadata": {
        "colab": {
          "base_uri": "https://localhost:8080/"
        },
        "id": "tzjLDNtVcWyn",
        "outputId": "15bcd269-b1f7-484b-bb9e-0bdf4707c313"
      },
      "id": "tzjLDNtVcWyn",
      "execution_count": 43,
      "outputs": [
        {
          "output_type": "stream",
          "name": "stdout",
          "text": [
            "Accuracy: 0.838 (0.051)\n"
          ]
        }
      ]
    },
    {
      "cell_type": "code",
      "source": [
        "# evaluate a logistic regression model using k-fold cross-validation\n",
        "from numpy import mean\n",
        "from numpy import std\n",
        "from sklearn.datasets import make_classification\n",
        "from sklearn.model_selection import KFold\n",
        "from sklearn.model_selection import cross_val_score\n",
        "from sklearn.linear_model import LogisticRegression\n",
        "# create dataset\n",
        "#X_train, y_train = make_classification(n_samples=100, n_features=20, n_informative=15, n_redundant=5, random_state=1)\n",
        "# prepare the cross-validation procedure\n",
        "cv = KFold(n_splits=10, random_state=1, shuffle=True)\n",
        "# create model\n",
        "model = lr\n",
        "# evaluate model\n",
        "scores = cross_val_score(model, X_train, y_train, scoring='accuracy', cv=cv, n_jobs=-1)\n",
        "# report performance\n",
        "print('Accuracy: %.3f (%.3f)' % (mean(scores), std(scores)))"
      ],
      "metadata": {
        "colab": {
          "base_uri": "https://localhost:8080/"
        },
        "id": "uqIDjHc1b8AD",
        "outputId": "0cddfbe8-30da-4c6f-d0bb-06652df9cffd"
      },
      "id": "uqIDjHc1b8AD",
      "execution_count": 44,
      "outputs": [
        {
          "output_type": "stream",
          "name": "stdout",
          "text": [
            "Accuracy: 0.707 (0.037)\n"
          ]
        }
      ]
    },
    {
      "cell_type": "code",
      "source": [
        "# evaluate a logistic regression L1 model using k-fold cross-validation\n",
        "from numpy import mean\n",
        "from numpy import std\n",
        "from sklearn.datasets import make_classification\n",
        "from sklearn.model_selection import KFold\n",
        "from sklearn.model_selection import cross_val_score\n",
        "from sklearn.linear_model import LogisticRegression\n",
        "# create dataset\n",
        "#X_train, y_train = make_classification(n_samples=100, n_features=20, n_informative=15, n_redundant=5, random_state=1)\n",
        "# prepare the cross-validation procedure\n",
        "cv = KFold(n_splits=10, random_state=1, shuffle=True)\n",
        "# create model\n",
        "model = lr_l1\n",
        "# evaluate model\n",
        "scores = cross_val_score(model, X_train, y_train, scoring='accuracy', cv=cv, n_jobs=-1)\n",
        "# report performance\n",
        "print('Accuracy: %.3f (%.3f)' % (mean(scores), std(scores)))"
      ],
      "metadata": {
        "colab": {
          "base_uri": "https://localhost:8080/"
        },
        "id": "Yny8Q6GwdLX5",
        "outputId": "b695c6a6-3ff3-4c6f-9a31-f82267254ac6"
      },
      "id": "Yny8Q6GwdLX5",
      "execution_count": 45,
      "outputs": [
        {
          "output_type": "stream",
          "name": "stdout",
          "text": [
            "Accuracy: 0.716 (0.050)\n"
          ]
        }
      ]
    },
    {
      "cell_type": "markdown",
      "source": [
        "Conclusion"
      ],
      "metadata": {
        "id": "qZhKdNFvaWKf"
      },
      "id": "qZhKdNFvaWKf"
    }
  ],
  "metadata": {
    "kernelspec": {
      "display_name": "Python 3 (ipykernel)",
      "language": "python",
      "name": "python3"
    },
    "language_info": {
      "codemirror_mode": {
        "name": "ipython",
        "version": 3
      },
      "file_extension": ".py",
      "mimetype": "text/x-python",
      "name": "python",
      "nbconvert_exporter": "python",
      "pygments_lexer": "ipython3",
      "version": "3.9.7"
    },
    "colab": {
      "provenance": [],
      "collapsed_sections": [],
      "include_colab_link": true
    }
  },
  "nbformat": 4,
  "nbformat_minor": 5
}